{
 "cells": [
  {
   "cell_type": "markdown",
   "id": "a113922e",
   "metadata": {},
   "source": [
    "# Churn Customer"
   ]
  },
  {
   "cell_type": "code",
   "execution_count": 1,
   "id": "2768f5da",
   "metadata": {},
   "outputs": [],
   "source": [
    "import pandas as pd\n",
    "import numpy as np\n",
    "import matplotlib.pyplot as plt\n",
    "import seaborn as sns"
   ]
  },
  {
   "cell_type": "code",
   "execution_count": 2,
   "id": "4d192617",
   "metadata": {},
   "outputs": [],
   "source": [
    "df_train= pd.read_csv('Churn_Customer_Train.csv')"
   ]
  },
  {
   "cell_type": "code",
   "execution_count": 3,
   "id": "c5d61c26",
   "metadata": {},
   "outputs": [
    {
     "data": {
      "text/html": [
       "<div>\n",
       "<style scoped>\n",
       "    .dataframe tbody tr th:only-of-type {\n",
       "        vertical-align: middle;\n",
       "    }\n",
       "\n",
       "    .dataframe tbody tr th {\n",
       "        vertical-align: top;\n",
       "    }\n",
       "\n",
       "    .dataframe thead th {\n",
       "        text-align: right;\n",
       "    }\n",
       "</style>\n",
       "<table border=\"1\" class=\"dataframe\">\n",
       "  <thead>\n",
       "    <tr style=\"text-align: right;\">\n",
       "      <th></th>\n",
       "      <th>ID</th>\n",
       "      <th>Age</th>\n",
       "      <th>Gender</th>\n",
       "      <th>Income</th>\n",
       "      <th>Balance</th>\n",
       "      <th>Vintage</th>\n",
       "      <th>Transaction_Status</th>\n",
       "      <th>Product_Holdings</th>\n",
       "      <th>Credit_Card</th>\n",
       "      <th>Credit_Category</th>\n",
       "      <th>Is_Churn</th>\n",
       "    </tr>\n",
       "  </thead>\n",
       "  <tbody>\n",
       "    <tr>\n",
       "      <th>0</th>\n",
       "      <td>84e2fcc9</td>\n",
       "      <td>36</td>\n",
       "      <td>Female</td>\n",
       "      <td>5L - 10L</td>\n",
       "      <td>563266.44</td>\n",
       "      <td>4</td>\n",
       "      <td>0</td>\n",
       "      <td>1</td>\n",
       "      <td>0</td>\n",
       "      <td>Average</td>\n",
       "      <td>1</td>\n",
       "    </tr>\n",
       "    <tr>\n",
       "      <th>1</th>\n",
       "      <td>57fea15e</td>\n",
       "      <td>53</td>\n",
       "      <td>Female</td>\n",
       "      <td>Less than 5L</td>\n",
       "      <td>875572.11</td>\n",
       "      <td>2</td>\n",
       "      <td>1</td>\n",
       "      <td>1</td>\n",
       "      <td>1</td>\n",
       "      <td>Poor</td>\n",
       "      <td>0</td>\n",
       "    </tr>\n",
       "    <tr>\n",
       "      <th>2</th>\n",
       "      <td>8df34ef3</td>\n",
       "      <td>35</td>\n",
       "      <td>Female</td>\n",
       "      <td>More than 15L</td>\n",
       "      <td>701607.06</td>\n",
       "      <td>2</td>\n",
       "      <td>1</td>\n",
       "      <td>2</td>\n",
       "      <td>0</td>\n",
       "      <td>Poor</td>\n",
       "      <td>0</td>\n",
       "    </tr>\n",
       "    <tr>\n",
       "      <th>3</th>\n",
       "      <td>c5c0788b</td>\n",
       "      <td>43</td>\n",
       "      <td>Female</td>\n",
       "      <td>More than 15L</td>\n",
       "      <td>1393922.16</td>\n",
       "      <td>0</td>\n",
       "      <td>1</td>\n",
       "      <td>2</td>\n",
       "      <td>1</td>\n",
       "      <td>Poor</td>\n",
       "      <td>1</td>\n",
       "    </tr>\n",
       "    <tr>\n",
       "      <th>4</th>\n",
       "      <td>951d69c4</td>\n",
       "      <td>39</td>\n",
       "      <td>Female</td>\n",
       "      <td>More than 15L</td>\n",
       "      <td>893146.23</td>\n",
       "      <td>1</td>\n",
       "      <td>1</td>\n",
       "      <td>1</td>\n",
       "      <td>1</td>\n",
       "      <td>Good</td>\n",
       "      <td>1</td>\n",
       "    </tr>\n",
       "  </tbody>\n",
       "</table>\n",
       "</div>"
      ],
      "text/plain": [
       "         ID  Age  Gender         Income     Balance  Vintage  \\\n",
       "0  84e2fcc9   36  Female       5L - 10L   563266.44        4   \n",
       "1  57fea15e   53  Female   Less than 5L   875572.11        2   \n",
       "2  8df34ef3   35  Female  More than 15L   701607.06        2   \n",
       "3  c5c0788b   43  Female  More than 15L  1393922.16        0   \n",
       "4  951d69c4   39  Female  More than 15L   893146.23        1   \n",
       "\n",
       "   Transaction_Status Product_Holdings  Credit_Card Credit_Category  Is_Churn  \n",
       "0                   0                1            0         Average         1  \n",
       "1                   1                1            1            Poor         0  \n",
       "2                   1                2            0            Poor         0  \n",
       "3                   1                2            1            Poor         1  \n",
       "4                   1                1            1            Good         1  "
      ]
     },
     "execution_count": 3,
     "metadata": {},
     "output_type": "execute_result"
    }
   ],
   "source": [
    "df_train.head()"
   ]
  },
  {
   "cell_type": "code",
   "execution_count": 4,
   "id": "56813e78",
   "metadata": {},
   "outputs": [],
   "source": [
    "test= pd.read_csv('Churn_Customer_Test.csv')"
   ]
  },
  {
   "cell_type": "code",
   "execution_count": 5,
   "id": "ef4e0638",
   "metadata": {},
   "outputs": [
    {
     "data": {
      "text/html": [
       "<div>\n",
       "<style scoped>\n",
       "    .dataframe tbody tr th:only-of-type {\n",
       "        vertical-align: middle;\n",
       "    }\n",
       "\n",
       "    .dataframe tbody tr th {\n",
       "        vertical-align: top;\n",
       "    }\n",
       "\n",
       "    .dataframe thead th {\n",
       "        text-align: right;\n",
       "    }\n",
       "</style>\n",
       "<table border=\"1\" class=\"dataframe\">\n",
       "  <thead>\n",
       "    <tr style=\"text-align: right;\">\n",
       "      <th></th>\n",
       "      <th>ID</th>\n",
       "      <th>Age</th>\n",
       "      <th>Gender</th>\n",
       "      <th>Income</th>\n",
       "      <th>Balance</th>\n",
       "      <th>Vintage</th>\n",
       "      <th>Transaction_Status</th>\n",
       "      <th>Product_Holdings</th>\n",
       "      <th>Credit_Card</th>\n",
       "      <th>Credit_Category</th>\n",
       "    </tr>\n",
       "  </thead>\n",
       "  <tbody>\n",
       "    <tr>\n",
       "      <th>0</th>\n",
       "      <td>55480787</td>\n",
       "      <td>50</td>\n",
       "      <td>Female</td>\n",
       "      <td>More than 15L</td>\n",
       "      <td>1008636.39</td>\n",
       "      <td>2</td>\n",
       "      <td>1</td>\n",
       "      <td>2</td>\n",
       "      <td>1</td>\n",
       "      <td>Average</td>\n",
       "    </tr>\n",
       "    <tr>\n",
       "      <th>1</th>\n",
       "      <td>9aededf2</td>\n",
       "      <td>36</td>\n",
       "      <td>Male</td>\n",
       "      <td>5L - 10L</td>\n",
       "      <td>341460.72</td>\n",
       "      <td>2</td>\n",
       "      <td>0</td>\n",
       "      <td>2</td>\n",
       "      <td>1</td>\n",
       "      <td>Average</td>\n",
       "    </tr>\n",
       "    <tr>\n",
       "      <th>2</th>\n",
       "      <td>a5034a09</td>\n",
       "      <td>25</td>\n",
       "      <td>Female</td>\n",
       "      <td>10L - 15L</td>\n",
       "      <td>439460.10</td>\n",
       "      <td>0</td>\n",
       "      <td>0</td>\n",
       "      <td>2</td>\n",
       "      <td>1</td>\n",
       "      <td>Good</td>\n",
       "    </tr>\n",
       "    <tr>\n",
       "      <th>3</th>\n",
       "      <td>b3256702</td>\n",
       "      <td>41</td>\n",
       "      <td>Male</td>\n",
       "      <td>Less than 5L</td>\n",
       "      <td>28581.93</td>\n",
       "      <td>0</td>\n",
       "      <td>1</td>\n",
       "      <td>2</td>\n",
       "      <td>1</td>\n",
       "      <td>Poor</td>\n",
       "    </tr>\n",
       "    <tr>\n",
       "      <th>4</th>\n",
       "      <td>dc28adb5</td>\n",
       "      <td>48</td>\n",
       "      <td>Male</td>\n",
       "      <td>More than 15L</td>\n",
       "      <td>1104540.03</td>\n",
       "      <td>2</td>\n",
       "      <td>1</td>\n",
       "      <td>3+</td>\n",
       "      <td>0</td>\n",
       "      <td>Good</td>\n",
       "    </tr>\n",
       "  </tbody>\n",
       "</table>\n",
       "</div>"
      ],
      "text/plain": [
       "         ID  Age  Gender         Income     Balance  Vintage  \\\n",
       "0  55480787   50  Female  More than 15L  1008636.39        2   \n",
       "1  9aededf2   36    Male       5L - 10L   341460.72        2   \n",
       "2  a5034a09   25  Female      10L - 15L   439460.10        0   \n",
       "3  b3256702   41    Male   Less than 5L    28581.93        0   \n",
       "4  dc28adb5   48    Male  More than 15L  1104540.03        2   \n",
       "\n",
       "   Transaction_Status Product_Holdings  Credit_Card Credit_Category  \n",
       "0                   1                2            1         Average  \n",
       "1                   0                2            1         Average  \n",
       "2                   0                2            1            Good  \n",
       "3                   1                2            1            Poor  \n",
       "4                   1               3+            0            Good  "
      ]
     },
     "execution_count": 5,
     "metadata": {},
     "output_type": "execute_result"
    }
   ],
   "source": [
    "test.head()"
   ]
  },
  {
   "cell_type": "markdown",
   "id": "7787f5e3",
   "metadata": {},
   "source": [
    "# Train Dataset"
   ]
  },
  {
   "cell_type": "code",
   "execution_count": 6,
   "id": "1e3206c1",
   "metadata": {},
   "outputs": [
    {
     "data": {
      "text/html": [
       "<div>\n",
       "<style scoped>\n",
       "    .dataframe tbody tr th:only-of-type {\n",
       "        vertical-align: middle;\n",
       "    }\n",
       "\n",
       "    .dataframe tbody tr th {\n",
       "        vertical-align: top;\n",
       "    }\n",
       "\n",
       "    .dataframe thead th {\n",
       "        text-align: right;\n",
       "    }\n",
       "</style>\n",
       "<table border=\"1\" class=\"dataframe\">\n",
       "  <thead>\n",
       "    <tr style=\"text-align: right;\">\n",
       "      <th></th>\n",
       "      <th>ID</th>\n",
       "      <th>Age</th>\n",
       "      <th>Gender</th>\n",
       "      <th>Income</th>\n",
       "      <th>Balance</th>\n",
       "      <th>Vintage</th>\n",
       "      <th>Transaction_Status</th>\n",
       "      <th>Product_Holdings</th>\n",
       "      <th>Credit_Card</th>\n",
       "      <th>Credit_Category</th>\n",
       "      <th>Is_Churn</th>\n",
       "    </tr>\n",
       "  </thead>\n",
       "  <tbody>\n",
       "    <tr>\n",
       "      <th>0</th>\n",
       "      <td>84e2fcc9</td>\n",
       "      <td>36</td>\n",
       "      <td>Female</td>\n",
       "      <td>5L - 10L</td>\n",
       "      <td>563266.44</td>\n",
       "      <td>4</td>\n",
       "      <td>0</td>\n",
       "      <td>1</td>\n",
       "      <td>0</td>\n",
       "      <td>Average</td>\n",
       "      <td>1</td>\n",
       "    </tr>\n",
       "    <tr>\n",
       "      <th>1</th>\n",
       "      <td>57fea15e</td>\n",
       "      <td>53</td>\n",
       "      <td>Female</td>\n",
       "      <td>Less than 5L</td>\n",
       "      <td>875572.11</td>\n",
       "      <td>2</td>\n",
       "      <td>1</td>\n",
       "      <td>1</td>\n",
       "      <td>1</td>\n",
       "      <td>Poor</td>\n",
       "      <td>0</td>\n",
       "    </tr>\n",
       "    <tr>\n",
       "      <th>2</th>\n",
       "      <td>8df34ef3</td>\n",
       "      <td>35</td>\n",
       "      <td>Female</td>\n",
       "      <td>More than 15L</td>\n",
       "      <td>701607.06</td>\n",
       "      <td>2</td>\n",
       "      <td>1</td>\n",
       "      <td>2</td>\n",
       "      <td>0</td>\n",
       "      <td>Poor</td>\n",
       "      <td>0</td>\n",
       "    </tr>\n",
       "    <tr>\n",
       "      <th>3</th>\n",
       "      <td>c5c0788b</td>\n",
       "      <td>43</td>\n",
       "      <td>Female</td>\n",
       "      <td>More than 15L</td>\n",
       "      <td>1393922.16</td>\n",
       "      <td>0</td>\n",
       "      <td>1</td>\n",
       "      <td>2</td>\n",
       "      <td>1</td>\n",
       "      <td>Poor</td>\n",
       "      <td>1</td>\n",
       "    </tr>\n",
       "    <tr>\n",
       "      <th>4</th>\n",
       "      <td>951d69c4</td>\n",
       "      <td>39</td>\n",
       "      <td>Female</td>\n",
       "      <td>More than 15L</td>\n",
       "      <td>893146.23</td>\n",
       "      <td>1</td>\n",
       "      <td>1</td>\n",
       "      <td>1</td>\n",
       "      <td>1</td>\n",
       "      <td>Good</td>\n",
       "      <td>1</td>\n",
       "    </tr>\n",
       "  </tbody>\n",
       "</table>\n",
       "</div>"
      ],
      "text/plain": [
       "         ID  Age  Gender         Income     Balance  Vintage  \\\n",
       "0  84e2fcc9   36  Female       5L - 10L   563266.44        4   \n",
       "1  57fea15e   53  Female   Less than 5L   875572.11        2   \n",
       "2  8df34ef3   35  Female  More than 15L   701607.06        2   \n",
       "3  c5c0788b   43  Female  More than 15L  1393922.16        0   \n",
       "4  951d69c4   39  Female  More than 15L   893146.23        1   \n",
       "\n",
       "   Transaction_Status Product_Holdings  Credit_Card Credit_Category  Is_Churn  \n",
       "0                   0                1            0         Average         1  \n",
       "1                   1                1            1            Poor         0  \n",
       "2                   1                2            0            Poor         0  \n",
       "3                   1                2            1            Poor         1  \n",
       "4                   1                1            1            Good         1  "
      ]
     },
     "execution_count": 6,
     "metadata": {},
     "output_type": "execute_result"
    }
   ],
   "source": [
    "df_train.head()"
   ]
  },
  {
   "cell_type": "markdown",
   "id": "525c1dc8",
   "metadata": {},
   "source": [
    "# EDA"
   ]
  },
  {
   "cell_type": "code",
   "execution_count": 7,
   "id": "36975f73",
   "metadata": {},
   "outputs": [
    {
     "data": {
      "text/plain": [
       "(array([2043.,    0.,    0.,    0.,    0., 3076.,    0.,    0.,    0.,\n",
       "        1531.]),\n",
       " array([0. , 0.2, 0.4, 0.6, 0.8, 1. , 1.2, 1.4, 1.6, 1.8, 2. ]),\n",
       " <BarContainer object of 10 artists>)"
      ]
     },
     "execution_count": 7,
     "metadata": {},
     "output_type": "execute_result"
    },
    {
     "data": {
      "image/png": "[encoded data removed]",
      "text/plain": [
       "<Figure size 432x288 with 1 Axes>"
      ]
     },
     "metadata": {
      "needs_background": "light"
     },
     "output_type": "display_data"
    }
   ],
   "source": [
    "plt.hist(df_train['Credit_Category'])"
   ]
  },
  {
   "cell_type": "code",
   "execution_count": 8,
   "id": "eb10248c",
   "metadata": {},
   "outputs": [
    {
     "data": {
      "text/plain": [
       "(array([1847.,    0.,    0., 1573.,    0.,    0., 1345.,    0.,    0.,\n",
       "        1885.]),\n",
       " array([0. , 0.3, 0.6, 0.9, 1.2, 1.5, 1.8, 2.1, 2.4, 2.7, 3. ]),\n",
       " <BarContainer object of 10 artists>)"
      ]
     },
     "execution_count": 8,
     "metadata": {},
     "output_type": "execute_result"
    },
    {
     "data": {
      "image/png": "[encoded data removed]",
      "text/plain": [
       "<Figure size 432x288 with 1 Axes>"
      ]
     },
     "metadata": {
      "needs_background": "light"
     },
     "output_type": "display_data"
    }
   ],
   "source": [
    "plt.hist(df_train['Income'])"
   ]
  },
  {
   "cell_type": "code",
   "execution_count": 9,
   "id": "28e7c934",
   "metadata": {},
   "outputs": [
    {
     "data": {
      "text/plain": [
       "(array([3038.,    0.,    0.,    0.,    0.,    0.,    0.,    0.,    0.,\n",
       "        3612.]),\n",
       " array([0. , 0.1, 0.2, 0.3, 0.4, 0.5, 0.6, 0.7, 0.8, 0.9, 1. ]),\n",
       " <BarContainer object of 10 artists>)"
      ]
     },
     "execution_count": 9,
     "metadata": {},
     "output_type": "execute_result"
    },
    {
     "data": {
      "image/png": "[encoded data removed]",
      "text/plain": [
       "<Figure size 432x288 with 1 Axes>"
      ]
     },
     "metadata": {
      "needs_background": "light"
     },
     "output_type": "display_data"
    }
   ],
   "source": [
    "plt.hist(df_train['Gender'])"
   ]
  },
  {
   "cell_type": "code",
   "execution_count": 10,
   "id": "a3b64ba5",
   "metadata": {},
   "outputs": [
    {
     "data": {
      "text/plain": [
       "(array([5113.,    0.,    0.,    0.,    0.,    0.,    0.,    0.,    0.,\n",
       "        1537.]),\n",
       " array([0. , 0.1, 0.2, 0.3, 0.4, 0.5, 0.6, 0.7, 0.8, 0.9, 1. ]),\n",
       " <BarContainer object of 10 artists>)"
      ]
     },
     "execution_count": 10,
     "metadata": {},
     "output_type": "execute_result"
    },
    {
     "data": {
      "image/png": "[encoded data removed]",
      "text/plain": [
       "<Figure size 432x288 with 1 Axes>"
      ]
     },
     "metadata": {
      "needs_background": "light"
     },
     "output_type": "display_data"
    }
   ],
   "source": [
    "plt.hist(df_train['Is_Churn'])"
   ]
  },
  {
   "cell_type": "markdown",
   "id": "93b1c6f8",
   "metadata": {},
   "source": [
    "# Feature Engineering"
   ]
  },
  {
   "cell_type": "code",
   "execution_count": 11,
   "id": "087ebaea",
   "metadata": {},
   "outputs": [
    {
     "data": {
      "text/plain": [
       "(6650, 11)"
      ]
     },
     "execution_count": 11,
     "metadata": {},
     "output_type": "execute_result"
    }
   ],
   "source": [
    "df_train.shape"
   ]
  },
  {
   "cell_type": "code",
   "execution_count": 12,
   "id": "67b8f56a",
   "metadata": {},
   "outputs": [],
   "source": [
    "df_train= df_train.drop('ID', axis=1)"
   ]
  },
  {
   "cell_type": "code",
   "execution_count": 13,
   "id": "8c2d94be",
   "metadata": {},
   "outputs": [
    {
     "data": {
      "text/plain": [
       "Age                   0\n",
       "Gender                0\n",
       "Income                0\n",
       "Balance               0\n",
       "Vintage               0\n",
       "Transaction_Status    0\n",
       "Product_Holdings      0\n",
       "Credit_Card           0\n",
       "Credit_Category       0\n",
       "Is_Churn              0\n",
       "dtype: int64"
      ]
     },
     "execution_count": 13,
     "metadata": {},
     "output_type": "execute_result"
    }
   ],
   "source": [
    "df_train.isna().sum()"
   ]
  },
  {
   "cell_type": "code",
   "execution_count": 14,
   "id": "e0646603",
   "metadata": {},
   "outputs": [
    {
     "data": {
      "text/plain": [
       "Age                     int64\n",
       "Gender                 object\n",
       "Income                 object\n",
       "Balance               float64\n",
       "Vintage                 int64\n",
       "Transaction_Status      int64\n",
       "Product_Holdings       object\n",
       "Credit_Card             int64\n",
       "Credit_Category        object\n",
       "Is_Churn                int64\n",
       "dtype: object"
      ]
     },
     "execution_count": 14,
     "metadata": {},
     "output_type": "execute_result"
    }
   ],
   "source": [
    "df_train.dtypes"
   ]
  },
  {
   "cell_type": "code",
   "execution_count": 15,
   "id": "c7b86c4d",
   "metadata": {},
   "outputs": [
    {
     "data": {
      "text/plain": [
       "Male      3612\n",
       "Female    3038\n",
       "Name: Gender, dtype: int64"
      ]
     },
     "execution_count": 15,
     "metadata": {},
     "output_type": "execute_result"
    }
   ],
   "source": [
    "df_train['Gender'].value_counts()"
   ]
  },
  {
   "cell_type": "code",
   "execution_count": 16,
   "id": "c8026eb8",
   "metadata": {},
   "outputs": [
    {
     "data": {
      "text/plain": [
       "1     3200\n",
       "2     3182\n",
       "3+     268\n",
       "Name: Product_Holdings, dtype: int64"
      ]
     },
     "execution_count": 16,
     "metadata": {},
     "output_type": "execute_result"
    }
   ],
   "source": [
    "df_train['Product_Holdings'].value_counts()"
   ]
  },
  {
   "cell_type": "code",
   "execution_count": 17,
   "id": "aa262f81",
   "metadata": {},
   "outputs": [
    {
     "data": {
      "text/plain": [
       "10L - 15L        1885\n",
       "5L - 10L         1847\n",
       "Less than 5L     1573\n",
       "More than 15L    1345\n",
       "Name: Income, dtype: int64"
      ]
     },
     "execution_count": 17,
     "metadata": {},
     "output_type": "execute_result"
    }
   ],
   "source": [
    "df_train['Income'].value_counts()"
   ]
  },
  {
   "cell_type": "code",
   "execution_count": 18,
   "id": "206801e9",
   "metadata": {},
   "outputs": [],
   "source": [
    "\n",
    "df1= df_train[(df_train['Product_Holdings']=='1')]\n",
    "df2= df_train[(df_train['Product_Holdings']=='2')]\n",
    "df3= df_train[(df_train['Product_Holdings']=='3+')]\n"
   ]
  },
  {
   "cell_type": "code",
   "execution_count": 19,
   "id": "700b5ac0",
   "metadata": {},
   "outputs": [],
   "source": [
    "df4= pd.concat([df1,df2], axis=0)"
   ]
  },
  {
   "cell_type": "code",
   "execution_count": 20,
   "id": "93e0f9d3",
   "metadata": {},
   "outputs": [],
   "source": [
    "df3=df3.sample(round(df4.count()[0]/2), replace=True)"
   ]
  },
  {
   "cell_type": "code",
   "execution_count": 21,
   "id": "70d7446f",
   "metadata": {},
   "outputs": [],
   "source": [
    "df_train= pd.concat([df4,df3], axis=0)"
   ]
  },
  {
   "cell_type": "code",
   "execution_count": 22,
   "id": "7e38565a",
   "metadata": {},
   "outputs": [],
   "source": [
    "df_train= pd.get_dummies(columns=['Product_Holdings','Income','Gender'], data=df_train , drop_first=True)"
   ]
  },
  {
   "cell_type": "code",
   "execution_count": 23,
   "id": "2decd748",
   "metadata": {},
   "outputs": [
    {
     "data": {
      "text/html": [
       "<div>\n",
       "<style scoped>\n",
       "    .dataframe tbody tr th:only-of-type {\n",
       "        vertical-align: middle;\n",
       "    }\n",
       "\n",
       "    .dataframe tbody tr th {\n",
       "        vertical-align: top;\n",
       "    }\n",
       "\n",
       "    .dataframe thead th {\n",
       "        text-align: right;\n",
       "    }\n",
       "</style>\n",
       "<table border=\"1\" class=\"dataframe\">\n",
       "  <thead>\n",
       "    <tr style=\"text-align: right;\">\n",
       "      <th></th>\n",
       "      <th>Age</th>\n",
       "      <th>Balance</th>\n",
       "      <th>Vintage</th>\n",
       "      <th>Transaction_Status</th>\n",
       "      <th>Credit_Card</th>\n",
       "      <th>Credit_Category</th>\n",
       "      <th>Is_Churn</th>\n",
       "      <th>Product_Holdings_2</th>\n",
       "      <th>Product_Holdings_3+</th>\n",
       "      <th>Income_5L - 10L</th>\n",
       "      <th>Income_Less than 5L</th>\n",
       "      <th>Income_More than 15L</th>\n",
       "      <th>Gender_Male</th>\n",
       "    </tr>\n",
       "  </thead>\n",
       "  <tbody>\n",
       "    <tr>\n",
       "      <th>0</th>\n",
       "      <td>36</td>\n",
       "      <td>563266.44</td>\n",
       "      <td>4</td>\n",
       "      <td>0</td>\n",
       "      <td>0</td>\n",
       "      <td>Average</td>\n",
       "      <td>1</td>\n",
       "      <td>0</td>\n",
       "      <td>0</td>\n",
       "      <td>1</td>\n",
       "      <td>0</td>\n",
       "      <td>0</td>\n",
       "      <td>0</td>\n",
       "    </tr>\n",
       "    <tr>\n",
       "      <th>1</th>\n",
       "      <td>53</td>\n",
       "      <td>875572.11</td>\n",
       "      <td>2</td>\n",
       "      <td>1</td>\n",
       "      <td>1</td>\n",
       "      <td>Poor</td>\n",
       "      <td>0</td>\n",
       "      <td>0</td>\n",
       "      <td>0</td>\n",
       "      <td>0</td>\n",
       "      <td>1</td>\n",
       "      <td>0</td>\n",
       "      <td>0</td>\n",
       "    </tr>\n",
       "    <tr>\n",
       "      <th>4</th>\n",
       "      <td>39</td>\n",
       "      <td>893146.23</td>\n",
       "      <td>1</td>\n",
       "      <td>1</td>\n",
       "      <td>1</td>\n",
       "      <td>Good</td>\n",
       "      <td>1</td>\n",
       "      <td>0</td>\n",
       "      <td>0</td>\n",
       "      <td>0</td>\n",
       "      <td>0</td>\n",
       "      <td>1</td>\n",
       "      <td>0</td>\n",
       "    </tr>\n",
       "    <tr>\n",
       "      <th>5</th>\n",
       "      <td>31</td>\n",
       "      <td>111026.79</td>\n",
       "      <td>4</td>\n",
       "      <td>1</td>\n",
       "      <td>0</td>\n",
       "      <td>Good</td>\n",
       "      <td>0</td>\n",
       "      <td>0</td>\n",
       "      <td>0</td>\n",
       "      <td>0</td>\n",
       "      <td>1</td>\n",
       "      <td>0</td>\n",
       "      <td>0</td>\n",
       "    </tr>\n",
       "    <tr>\n",
       "      <th>7</th>\n",
       "      <td>41</td>\n",
       "      <td>1587489.75</td>\n",
       "      <td>4</td>\n",
       "      <td>0</td>\n",
       "      <td>1</td>\n",
       "      <td>Poor</td>\n",
       "      <td>1</td>\n",
       "      <td>0</td>\n",
       "      <td>0</td>\n",
       "      <td>0</td>\n",
       "      <td>0</td>\n",
       "      <td>0</td>\n",
       "      <td>0</td>\n",
       "    </tr>\n",
       "  </tbody>\n",
       "</table>\n",
       "</div>"
      ],
      "text/plain": [
       "   Age     Balance  Vintage  Transaction_Status  Credit_Card Credit_Category  \\\n",
       "0   36   563266.44        4                   0            0         Average   \n",
       "1   53   875572.11        2                   1            1            Poor   \n",
       "4   39   893146.23        1                   1            1            Good   \n",
       "5   31   111026.79        4                   1            0            Good   \n",
       "7   41  1587489.75        4                   0            1            Poor   \n",
       "\n",
       "   Is_Churn  Product_Holdings_2  Product_Holdings_3+  Income_5L - 10L  \\\n",
       "0         1                   0                    0                1   \n",
       "1         0                   0                    0                0   \n",
       "4         1                   0                    0                0   \n",
       "5         0                   0                    0                0   \n",
       "7         1                   0                    0                0   \n",
       "\n",
       "   Income_Less than 5L  Income_More than 15L  Gender_Male  \n",
       "0                    0                     0            0  \n",
       "1                    1                     0            0  \n",
       "4                    0                     1            0  \n",
       "5                    1                     0            0  \n",
       "7                    0                     0            0  "
      ]
     },
     "execution_count": 23,
     "metadata": {},
     "output_type": "execute_result"
    }
   ],
   "source": [
    "df_train.head()"
   ]
  },
  {
   "cell_type": "code",
   "execution_count": 24,
   "id": "53d2580f",
   "metadata": {},
   "outputs": [
    {
     "data": {
      "text/plain": [
       "Poor       4267\n",
       "Average    3017\n",
       "Good       2289\n",
       "Name: Credit_Category, dtype: int64"
      ]
     },
     "execution_count": 24,
     "metadata": {},
     "output_type": "execute_result"
    }
   ],
   "source": [
    "df_train['Credit_Category'].value_counts()"
   ]
  },
  {
   "cell_type": "code",
   "execution_count": 25,
   "id": "3269dc71",
   "metadata": {},
   "outputs": [],
   "source": [
    "df_train['Credit_Category']= np.where(df_train['Credit_Category']=='Poor',0,df_train['Credit_Category'])\n",
    "df_train['Credit_Category']= np.where(df_train['Credit_Category']=='Average',1,df_train['Credit_Category'])\n",
    "df_train['Credit_Category']= np.where(df_train['Credit_Category']=='Good',2,df_train['Credit_Category'])\n",
    "df_train['Credit_Category']=df_train['Credit_Category'].astype('int')"
   ]
  },
  {
   "cell_type": "code",
   "execution_count": 26,
   "id": "f782f74e",
   "metadata": {},
   "outputs": [
    {
     "data": {
      "text/plain": [
       "0    4267\n",
       "1    3017\n",
       "2    2289\n",
       "Name: Credit_Category, dtype: int64"
      ]
     },
     "execution_count": 26,
     "metadata": {},
     "output_type": "execute_result"
    }
   ],
   "source": [
    "df_train['Credit_Category'].value_counts()"
   ]
  },
  {
   "cell_type": "code",
   "execution_count": 27,
   "id": "4d1c8f05",
   "metadata": {},
   "outputs": [
    {
     "data": {
      "text/html": [
       "<div>\n",
       "<style scoped>\n",
       "    .dataframe tbody tr th:only-of-type {\n",
       "        vertical-align: middle;\n",
       "    }\n",
       "\n",
       "    .dataframe tbody tr th {\n",
       "        vertical-align: top;\n",
       "    }\n",
       "\n",
       "    .dataframe thead th {\n",
       "        text-align: right;\n",
       "    }\n",
       "</style>\n",
       "<table border=\"1\" class=\"dataframe\">\n",
       "  <thead>\n",
       "    <tr style=\"text-align: right;\">\n",
       "      <th></th>\n",
       "      <th>Age</th>\n",
       "      <th>Balance</th>\n",
       "      <th>Vintage</th>\n",
       "      <th>Transaction_Status</th>\n",
       "      <th>Credit_Card</th>\n",
       "      <th>Credit_Category</th>\n",
       "      <th>Is_Churn</th>\n",
       "      <th>Product_Holdings_2</th>\n",
       "      <th>Product_Holdings_3+</th>\n",
       "      <th>Income_5L - 10L</th>\n",
       "      <th>Income_Less than 5L</th>\n",
       "      <th>Income_More than 15L</th>\n",
       "      <th>Gender_Male</th>\n",
       "    </tr>\n",
       "  </thead>\n",
       "  <tbody>\n",
       "    <tr>\n",
       "      <th>0</th>\n",
       "      <td>36</td>\n",
       "      <td>563266.44</td>\n",
       "      <td>4</td>\n",
       "      <td>0</td>\n",
       "      <td>0</td>\n",
       "      <td>1</td>\n",
       "      <td>1</td>\n",
       "      <td>0</td>\n",
       "      <td>0</td>\n",
       "      <td>1</td>\n",
       "      <td>0</td>\n",
       "      <td>0</td>\n",
       "      <td>0</td>\n",
       "    </tr>\n",
       "    <tr>\n",
       "      <th>1</th>\n",
       "      <td>53</td>\n",
       "      <td>875572.11</td>\n",
       "      <td>2</td>\n",
       "      <td>1</td>\n",
       "      <td>1</td>\n",
       "      <td>0</td>\n",
       "      <td>0</td>\n",
       "      <td>0</td>\n",
       "      <td>0</td>\n",
       "      <td>0</td>\n",
       "      <td>1</td>\n",
       "      <td>0</td>\n",
       "      <td>0</td>\n",
       "    </tr>\n",
       "    <tr>\n",
       "      <th>4</th>\n",
       "      <td>39</td>\n",
       "      <td>893146.23</td>\n",
       "      <td>1</td>\n",
       "      <td>1</td>\n",
       "      <td>1</td>\n",
       "      <td>2</td>\n",
       "      <td>1</td>\n",
       "      <td>0</td>\n",
       "      <td>0</td>\n",
       "      <td>0</td>\n",
       "      <td>0</td>\n",
       "      <td>1</td>\n",
       "      <td>0</td>\n",
       "    </tr>\n",
       "    <tr>\n",
       "      <th>5</th>\n",
       "      <td>31</td>\n",
       "      <td>111026.79</td>\n",
       "      <td>4</td>\n",
       "      <td>1</td>\n",
       "      <td>0</td>\n",
       "      <td>2</td>\n",
       "      <td>0</td>\n",
       "      <td>0</td>\n",
       "      <td>0</td>\n",
       "      <td>0</td>\n",
       "      <td>1</td>\n",
       "      <td>0</td>\n",
       "      <td>0</td>\n",
       "    </tr>\n",
       "    <tr>\n",
       "      <th>7</th>\n",
       "      <td>41</td>\n",
       "      <td>1587489.75</td>\n",
       "      <td>4</td>\n",
       "      <td>0</td>\n",
       "      <td>1</td>\n",
       "      <td>0</td>\n",
       "      <td>1</td>\n",
       "      <td>0</td>\n",
       "      <td>0</td>\n",
       "      <td>0</td>\n",
       "      <td>0</td>\n",
       "      <td>0</td>\n",
       "      <td>0</td>\n",
       "    </tr>\n",
       "  </tbody>\n",
       "</table>\n",
       "</div>"
      ],
      "text/plain": [
       "   Age     Balance  Vintage  Transaction_Status  Credit_Card  Credit_Category  \\\n",
       "0   36   563266.44        4                   0            0                1   \n",
       "1   53   875572.11        2                   1            1                0   \n",
       "4   39   893146.23        1                   1            1                2   \n",
       "5   31   111026.79        4                   1            0                2   \n",
       "7   41  1587489.75        4                   0            1                0   \n",
       "\n",
       "   Is_Churn  Product_Holdings_2  Product_Holdings_3+  Income_5L - 10L  \\\n",
       "0         1                   0                    0                1   \n",
       "1         0                   0                    0                0   \n",
       "4         1                   0                    0                0   \n",
       "5         0                   0                    0                0   \n",
       "7         1                   0                    0                0   \n",
       "\n",
       "   Income_Less than 5L  Income_More than 15L  Gender_Male  \n",
       "0                    0                     0            0  \n",
       "1                    1                     0            0  \n",
       "4                    0                     1            0  \n",
       "5                    1                     0            0  \n",
       "7                    0                     0            0  "
      ]
     },
     "execution_count": 27,
     "metadata": {},
     "output_type": "execute_result"
    }
   ],
   "source": [
    "df_train.head()"
   ]
  },
  {
   "cell_type": "code",
   "execution_count": 28,
   "id": "4c2fa91c",
   "metadata": {},
   "outputs": [
    {
     "data": {
      "text/plain": [
       "Age                       int64\n",
       "Balance                 float64\n",
       "Vintage                   int64\n",
       "Transaction_Status        int64\n",
       "Credit_Card               int64\n",
       "Credit_Category           int32\n",
       "Is_Churn                  int64\n",
       "Product_Holdings_2        uint8\n",
       "Product_Holdings_3+       uint8\n",
       "Income_5L - 10L           uint8\n",
       "Income_Less than 5L       uint8\n",
       "Income_More than 15L      uint8\n",
       "Gender_Male               uint8\n",
       "dtype: object"
      ]
     },
     "execution_count": 28,
     "metadata": {},
     "output_type": "execute_result"
    }
   ],
   "source": [
    "df_train.dtypes"
   ]
  },
  {
   "cell_type": "code",
   "execution_count": 29,
   "id": "4b3f0ab1",
   "metadata": {},
   "outputs": [
    {
     "data": {
      "text/html": [
       "<div>\n",
       "<style scoped>\n",
       "    .dataframe tbody tr th:only-of-type {\n",
       "        vertical-align: middle;\n",
       "    }\n",
       "\n",
       "    .dataframe tbody tr th {\n",
       "        vertical-align: top;\n",
       "    }\n",
       "\n",
       "    .dataframe thead th {\n",
       "        text-align: right;\n",
       "    }\n",
       "</style>\n",
       "<table border=\"1\" class=\"dataframe\">\n",
       "  <thead>\n",
       "    <tr style=\"text-align: right;\">\n",
       "      <th></th>\n",
       "      <th>Age</th>\n",
       "      <th>Balance</th>\n",
       "      <th>Vintage</th>\n",
       "      <th>Transaction_Status</th>\n",
       "      <th>Credit_Card</th>\n",
       "      <th>Credit_Category</th>\n",
       "      <th>Is_Churn</th>\n",
       "      <th>Product_Holdings_2</th>\n",
       "      <th>Product_Holdings_3+</th>\n",
       "      <th>Income_5L - 10L</th>\n",
       "      <th>Income_Less than 5L</th>\n",
       "      <th>Income_More than 15L</th>\n",
       "      <th>Gender_Male</th>\n",
       "    </tr>\n",
       "  </thead>\n",
       "  <tbody>\n",
       "    <tr>\n",
       "      <th>count</th>\n",
       "      <td>9573.000000</td>\n",
       "      <td>9.573000e+03</td>\n",
       "      <td>9573.000000</td>\n",
       "      <td>9573.000000</td>\n",
       "      <td>9573.000000</td>\n",
       "      <td>9573.000000</td>\n",
       "      <td>9573.000000</td>\n",
       "      <td>9573.000000</td>\n",
       "      <td>9573.000000</td>\n",
       "      <td>9573.000000</td>\n",
       "      <td>9573.000000</td>\n",
       "      <td>9573.000000</td>\n",
       "      <td>9573.000000</td>\n",
       "    </tr>\n",
       "    <tr>\n",
       "      <th>mean</th>\n",
       "      <td>40.907135</td>\n",
       "      <td>7.185161e+05</td>\n",
       "      <td>2.272433</td>\n",
       "      <td>0.508200</td>\n",
       "      <td>0.659981</td>\n",
       "      <td>0.793377</td>\n",
       "      <td>0.230022</td>\n",
       "      <td>0.332393</td>\n",
       "      <td>0.333333</td>\n",
       "      <td>0.284446</td>\n",
       "      <td>0.234932</td>\n",
       "      <td>0.210801</td>\n",
       "      <td>0.525854</td>\n",
       "    </tr>\n",
       "    <tr>\n",
       "      <th>std</th>\n",
       "      <td>9.542876</td>\n",
       "      <td>5.064717e+05</td>\n",
       "      <td>1.437204</td>\n",
       "      <td>0.499959</td>\n",
       "      <td>0.473740</td>\n",
       "      <td>0.801384</td>\n",
       "      <td>0.420869</td>\n",
       "      <td>0.471096</td>\n",
       "      <td>0.471429</td>\n",
       "      <td>0.451174</td>\n",
       "      <td>0.423978</td>\n",
       "      <td>0.407899</td>\n",
       "      <td>0.499357</td>\n",
       "    </tr>\n",
       "    <tr>\n",
       "      <th>min</th>\n",
       "      <td>21.000000</td>\n",
       "      <td>6.300000e+01</td>\n",
       "      <td>0.000000</td>\n",
       "      <td>0.000000</td>\n",
       "      <td>0.000000</td>\n",
       "      <td>0.000000</td>\n",
       "      <td>0.000000</td>\n",
       "      <td>0.000000</td>\n",
       "      <td>0.000000</td>\n",
       "      <td>0.000000</td>\n",
       "      <td>0.000000</td>\n",
       "      <td>0.000000</td>\n",
       "      <td>0.000000</td>\n",
       "    </tr>\n",
       "    <tr>\n",
       "      <th>25%</th>\n",
       "      <td>34.000000</td>\n",
       "      <td>2.821351e+05</td>\n",
       "      <td>1.000000</td>\n",
       "      <td>0.000000</td>\n",
       "      <td>0.000000</td>\n",
       "      <td>0.000000</td>\n",
       "      <td>0.000000</td>\n",
       "      <td>0.000000</td>\n",
       "      <td>0.000000</td>\n",
       "      <td>0.000000</td>\n",
       "      <td>0.000000</td>\n",
       "      <td>0.000000</td>\n",
       "      <td>0.000000</td>\n",
       "    </tr>\n",
       "    <tr>\n",
       "      <th>50%</th>\n",
       "      <td>40.000000</td>\n",
       "      <td>6.685852e+05</td>\n",
       "      <td>2.000000</td>\n",
       "      <td>1.000000</td>\n",
       "      <td>1.000000</td>\n",
       "      <td>1.000000</td>\n",
       "      <td>0.000000</td>\n",
       "      <td>0.000000</td>\n",
       "      <td>0.000000</td>\n",
       "      <td>0.000000</td>\n",
       "      <td>0.000000</td>\n",
       "      <td>0.000000</td>\n",
       "      <td>1.000000</td>\n",
       "    </tr>\n",
       "    <tr>\n",
       "      <th>75%</th>\n",
       "      <td>47.000000</td>\n",
       "      <td>1.043568e+06</td>\n",
       "      <td>3.000000</td>\n",
       "      <td>1.000000</td>\n",
       "      <td>1.000000</td>\n",
       "      <td>1.000000</td>\n",
       "      <td>0.000000</td>\n",
       "      <td>1.000000</td>\n",
       "      <td>1.000000</td>\n",
       "      <td>1.000000</td>\n",
       "      <td>0.000000</td>\n",
       "      <td>0.000000</td>\n",
       "      <td>1.000000</td>\n",
       "    </tr>\n",
       "    <tr>\n",
       "      <th>max</th>\n",
       "      <td>72.000000</td>\n",
       "      <td>2.436616e+06</td>\n",
       "      <td>5.000000</td>\n",
       "      <td>1.000000</td>\n",
       "      <td>1.000000</td>\n",
       "      <td>2.000000</td>\n",
       "      <td>1.000000</td>\n",
       "      <td>1.000000</td>\n",
       "      <td>1.000000</td>\n",
       "      <td>1.000000</td>\n",
       "      <td>1.000000</td>\n",
       "      <td>1.000000</td>\n",
       "      <td>1.000000</td>\n",
       "    </tr>\n",
       "  </tbody>\n",
       "</table>\n",
       "</div>"
      ],
      "text/plain": [
       "               Age       Balance      Vintage  Transaction_Status  \\\n",
       "count  9573.000000  9.573000e+03  9573.000000         9573.000000   \n",
       "mean     40.907135  7.185161e+05     2.272433            0.508200   \n",
       "std       9.542876  5.064717e+05     1.437204            0.499959   \n",
       "min      21.000000  6.300000e+01     0.000000            0.000000   \n",
       "25%      34.000000  2.821351e+05     1.000000            0.000000   \n",
       "50%      40.000000  6.685852e+05     2.000000            1.000000   \n",
       "75%      47.000000  1.043568e+06     3.000000            1.000000   \n",
       "max      72.000000  2.436616e+06     5.000000            1.000000   \n",
       "\n",
       "       Credit_Card  Credit_Category     Is_Churn  Product_Holdings_2  \\\n",
       "count  9573.000000      9573.000000  9573.000000         9573.000000   \n",
       "mean      0.659981         0.793377     0.230022            0.332393   \n",
       "std       0.473740         0.801384     0.420869            0.471096   \n",
       "min       0.000000         0.000000     0.000000            0.000000   \n",
       "25%       0.000000         0.000000     0.000000            0.000000   \n",
       "50%       1.000000         1.000000     0.000000            0.000000   \n",
       "75%       1.000000         1.000000     0.000000            1.000000   \n",
       "max       1.000000         2.000000     1.000000            1.000000   \n",
       "\n",
       "       Product_Holdings_3+  Income_5L - 10L  Income_Less than 5L  \\\n",
       "count          9573.000000      9573.000000          9573.000000   \n",
       "mean              0.333333         0.284446             0.234932   \n",
       "std               0.471429         0.451174             0.423978   \n",
       "min               0.000000         0.000000             0.000000   \n",
       "25%               0.000000         0.000000             0.000000   \n",
       "50%               0.000000         0.000000             0.000000   \n",
       "75%               1.000000         1.000000             0.000000   \n",
       "max               1.000000         1.000000             1.000000   \n",
       "\n",
       "       Income_More than 15L  Gender_Male  \n",
       "count           9573.000000  9573.000000  \n",
       "mean               0.210801     0.525854  \n",
       "std                0.407899     0.499357  \n",
       "min                0.000000     0.000000  \n",
       "25%                0.000000     0.000000  \n",
       "50%                0.000000     1.000000  \n",
       "75%                0.000000     1.000000  \n",
       "max                1.000000     1.000000  "
      ]
     },
     "execution_count": 29,
     "metadata": {},
     "output_type": "execute_result"
    }
   ],
   "source": [
    "df_train.describe()"
   ]
  },
  {
   "cell_type": "code",
   "execution_count": 30,
   "id": "72a756b0",
   "metadata": {},
   "outputs": [
    {
     "data": {
      "text/plain": [
       "<AxesSubplot:>"
      ]
     },
     "execution_count": 30,
     "metadata": {},
     "output_type": "execute_result"
    },
    {
     "data": {
      "image/png": "[encoded data removed]",
      "text/plain": [
       "<Figure size 1584x864 with 2 Axes>"
      ]
     },
     "metadata": {
      "needs_background": "light"
     },
     "output_type": "display_data"
    }
   ],
   "source": [
    "corr= df_train.corr()\n",
    "plt.figure(figsize=[22,12])\n",
    "sns.heatmap(corr, annot=True)"
   ]
  },
  {
   "cell_type": "code",
   "execution_count": 31,
   "id": "3c70cedf",
   "metadata": {},
   "outputs": [
    {
     "data": {
      "text/plain": [
       "Is_Churn                1.000000\n",
       "Age                     0.203452\n",
       "Balance                 0.047780\n",
       "Vintage                 0.022816\n",
       "Income_More than 15L    0.020579\n",
       "Credit_Category         0.005570\n",
       "Income_5L - 10L         0.000358\n",
       "Product_Holdings_3+    -0.005265\n",
       "Product_Holdings_2     -0.021040\n",
       "Credit_Card            -0.025821\n",
       "Income_Less than 5L    -0.026533\n",
       "Gender_Male            -0.058126\n",
       "Transaction_Status     -0.091384\n",
       "Name: Is_Churn, dtype: float64"
      ]
     },
     "execution_count": 31,
     "metadata": {},
     "output_type": "execute_result"
    }
   ],
   "source": [
    "corr['Is_Churn'].sort_values(ascending=False)"
   ]
  },
  {
   "cell_type": "code",
   "execution_count": 32,
   "id": "4dea76c9",
   "metadata": {},
   "outputs": [
    {
     "data": {
      "text/plain": [
       "<AxesSubplot:>"
      ]
     },
     "execution_count": 32,
     "metadata": {},
     "output_type": "execute_result"
    },
    {
     "data": {
      "image/png": "[encoded data removed]",
      "text/plain": [
       "<Figure size 1584x864 with 1 Axes>"
      ]
     },
     "metadata": {
      "needs_background": "light"
     },
     "output_type": "display_data"
    }
   ],
   "source": [
    "plt.figure(figsize=[22,12])\n",
    "df_train.boxplot()"
   ]
  },
  {
   "cell_type": "code",
   "execution_count": 33,
   "id": "49160847",
   "metadata": {},
   "outputs": [
    {
     "data": {
      "text/plain": [
       "Age                     0.571124\n",
       "Balance                 0.629940\n",
       "Vintage                 0.021162\n",
       "Transaction_Status     -0.032810\n",
       "Credit_Card            -0.675538\n",
       "Credit_Category         0.389206\n",
       "Is_Churn                1.283225\n",
       "Product_Holdings_2      0.711710\n",
       "Product_Holdings_3+     0.707218\n",
       "Income_5L - 10L         0.955726\n",
       "Income_Less than 5L     1.250648\n",
       "Income_More than 15L    1.418289\n",
       "Gender_Male            -0.103571\n",
       "dtype: float64"
      ]
     },
     "execution_count": 33,
     "metadata": {},
     "output_type": "execute_result"
    }
   ],
   "source": [
    "df_train.skew()"
   ]
  },
  {
   "cell_type": "code",
   "execution_count": 34,
   "id": "769edbc1",
   "metadata": {},
   "outputs": [
    {
     "data": {
      "text/plain": [
       "Age                     0.004819\n",
       "Balance                -0.174383\n",
       "Vintage                 0.021162\n",
       "Transaction_Status     -0.032810\n",
       "Credit_Card            -0.675538\n",
       "Credit_Category         0.389206\n",
       "Is_Churn                1.283225\n",
       "Product_Holdings_2      0.711710\n",
       "Product_Holdings_3+     0.707218\n",
       "Income_5L - 10L         0.955726\n",
       "Income_Less than 5L     1.250648\n",
       "Income_More than 15L    1.418289\n",
       "Gender_Male            -0.103571\n",
       "dtype: float64"
      ]
     },
     "execution_count": 34,
     "metadata": {},
     "output_type": "execute_result"
    }
   ],
   "source": [
    "columns=['Age','Balance']\n",
    "from sklearn.preprocessing import PowerTransformer\n",
    "powertrans= PowerTransformer()\n",
    "df_train[columns]= powertrans.fit_transform(df_train[columns])\n",
    "df_train.skew()"
   ]
  },
  {
   "cell_type": "code",
   "execution_count": 35,
   "id": "ff1c9093",
   "metadata": {},
   "outputs": [
    {
     "data": {
      "text/plain": [
       "<AxesSubplot:>"
      ]
     },
     "execution_count": 35,
     "metadata": {},
     "output_type": "execute_result"
    },
    {
     "data": {
      "image/png": "[encoded data removed]",
      "text/plain": [
       "<Figure size 1584x864 with 1 Axes>"
      ]
     },
     "metadata": {
      "needs_background": "light"
     },
     "output_type": "display_data"
    }
   ],
   "source": [
    "plt.figure(figsize=[22,12])\n",
    "df_train[['Age','Balance']].boxplot()"
   ]
  },
  {
   "cell_type": "code",
   "execution_count": 36,
   "id": "e8cb9b68",
   "metadata": {},
   "outputs": [],
   "source": [
    "col=['Age','Balance','Vintage','Credit_Category']\n",
    "from sklearn.preprocessing import StandardScaler\n",
    "stdscaler= StandardScaler()\n",
    "df_train[col]= stdscaler.fit_transform(df_train[col])"
   ]
  },
  {
   "cell_type": "markdown",
   "id": "c7b58c4d",
   "metadata": {},
   "source": [
    "# Train-Test Split"
   ]
  },
  {
   "cell_type": "code",
   "execution_count": 37,
   "id": "c0408d3c",
   "metadata": {},
   "outputs": [],
   "source": [
    "x= df_train.drop('Is_Churn',axis=1)\n",
    "y= df_train['Is_Churn']"
   ]
  },
  {
   "cell_type": "code",
   "execution_count": 38,
   "id": "5a75ae8f",
   "metadata": {},
   "outputs": [
    {
     "data": {
      "text/plain": [
       "((9573, 12),\n",
       " (9573,),\n",
       " 0    7371\n",
       " 1    2202\n",
       " Name: Is_Churn, dtype: int64)"
      ]
     },
     "execution_count": 38,
     "metadata": {},
     "output_type": "execute_result"
    }
   ],
   "source": [
    "x.shape, y.shape, y.value_counts()"
   ]
  },
  {
   "cell_type": "code",
   "execution_count": 39,
   "id": "b76a5742",
   "metadata": {},
   "outputs": [],
   "source": [
    "\n",
    "from imblearn.over_sampling import SMOTE\n",
    "smote= SMOTE()\n",
    "x_new, y_new= smote.fit_resample(x,y)\n"
   ]
  },
  {
   "cell_type": "code",
   "execution_count": 40,
   "id": "246f95c0",
   "metadata": {},
   "outputs": [
    {
     "data": {
      "text/plain": [
       "((14742, 12),\n",
       " (14742,),\n",
       " 1    7371\n",
       " 0    7371\n",
       " Name: Is_Churn, dtype: int64)"
      ]
     },
     "execution_count": 40,
     "metadata": {},
     "output_type": "execute_result"
    }
   ],
   "source": [
    "x_new.shape, y_new.shape, y_new.value_counts()"
   ]
  },
  {
   "cell_type": "code",
   "execution_count": 41,
   "id": "9bc7b080",
   "metadata": {},
   "outputs": [],
   "source": [
    "from sklearn.model_selection import train_test_split\n",
    "x_train, x_test, y_train, y_test=train_test_split(x_new, y_new, random_state=50, test_size=0.2, stratify=y_new)"
   ]
  },
  {
   "cell_type": "code",
   "execution_count": 42,
   "id": "87f32111",
   "metadata": {},
   "outputs": [
    {
     "data": {
      "text/plain": [
       "((11793, 12), (2949, 12), (11793,), (2949,))"
      ]
     },
     "execution_count": 42,
     "metadata": {},
     "output_type": "execute_result"
    }
   ],
   "source": [
    "x_train.shape, x_test.shape, y_train.shape, y_test.shape"
   ]
  },
  {
   "cell_type": "code",
   "execution_count": 43,
   "id": "f7c9c9c6",
   "metadata": {},
   "outputs": [
    {
     "data": {
      "text/plain": [
       "((5897,), (1474,))"
      ]
     },
     "execution_count": 43,
     "metadata": {},
     "output_type": "execute_result"
    }
   ],
   "source": [
    "y_train[y_train==1].shape, y_test[y_test==1].shape "
   ]
  },
  {
   "cell_type": "code",
   "execution_count": 44,
   "id": "8deb5ec8",
   "metadata": {},
   "outputs": [
    {
     "data": {
      "text/plain": [
       "((5896,), (1475,))"
      ]
     },
     "execution_count": 44,
     "metadata": {},
     "output_type": "execute_result"
    }
   ],
   "source": [
    "y_train[y_train==0].shape, y_test[y_test==0].shape"
   ]
  },
  {
   "cell_type": "markdown",
   "id": "20505805",
   "metadata": {},
   "source": [
    "# ML Algorithms"
   ]
  },
  {
   "cell_type": "code",
   "execution_count": 45,
   "id": "3a7c60c5",
   "metadata": {},
   "outputs": [],
   "source": [
    "from sklearn.linear_model import LogisticRegression\n",
    "from sklearn.tree import DecisionTreeClassifier\n",
    "from sklearn.ensemble import RandomForestClassifier\n",
    "from sklearn.neighbors import KNeighborsClassifier\n",
    "import xgboost as xgb\n",
    "import lightgbm as lgb\n",
    "from sklearn.metrics import accuracy_score,confusion_matrix,classification_report"
   ]
  },
  {
   "cell_type": "code",
   "execution_count": 46,
   "id": "bffb55c1",
   "metadata": {},
   "outputs": [
    {
     "name": "stdout",
     "output_type": "stream",
     "text": [
      "0.6225839267548321\n",
      "[[893 582]\n",
      " [531 943]]\n",
      "              precision    recall  f1-score   support\n",
      "\n",
      "           0       0.63      0.61      0.62      1475\n",
      "           1       0.62      0.64      0.63      1474\n",
      "\n",
      "    accuracy                           0.62      2949\n",
      "   macro avg       0.62      0.62      0.62      2949\n",
      "weighted avg       0.62      0.62      0.62      2949\n",
      "\n"
     ]
    }
   ],
   "source": [
    "lr= LogisticRegression()\n",
    "lr.fit(x_train,y_train)\n",
    "predlr= lr.predict(x_test)\n",
    "print(accuracy_score(y_test,predlr))\n",
    "print(confusion_matrix(y_test,predlr))\n",
    "print(classification_report(y_test,predlr))"
   ]
  },
  {
   "cell_type": "code",
   "execution_count": 47,
   "id": "8a5771f9",
   "metadata": {},
   "outputs": [
    {
     "name": "stdout",
     "output_type": "stream",
     "text": [
      "0.8192607663614785\n",
      "[[1091  384]\n",
      " [ 149 1325]]\n",
      "              precision    recall  f1-score   support\n",
      "\n",
      "           0       0.88      0.74      0.80      1475\n",
      "           1       0.78      0.90      0.83      1474\n",
      "\n",
      "    accuracy                           0.82      2949\n",
      "   macro avg       0.83      0.82      0.82      2949\n",
      "weighted avg       0.83      0.82      0.82      2949\n",
      "\n"
     ]
    }
   ],
   "source": [
    "knn= KNeighborsClassifier()\n",
    "knn.fit(x_train,y_train)\n",
    "predknn= knn.predict(x_test)\n",
    "print(accuracy_score(y_test,predknn))\n",
    "print(confusion_matrix(y_test,predknn))\n",
    "print(classification_report(y_test,predknn))"
   ]
  },
  {
   "cell_type": "code",
   "execution_count": 48,
   "id": "f94dce5d",
   "metadata": {},
   "outputs": [
    {
     "name": "stdout",
     "output_type": "stream",
     "text": [
      "0.8128179043743642\n",
      "[[1190  285]\n",
      " [ 267 1207]]\n",
      "              precision    recall  f1-score   support\n",
      "\n",
      "           0       0.82      0.81      0.81      1475\n",
      "           1       0.81      0.82      0.81      1474\n",
      "\n",
      "    accuracy                           0.81      2949\n",
      "   macro avg       0.81      0.81      0.81      2949\n",
      "weighted avg       0.81      0.81      0.81      2949\n",
      "\n"
     ]
    }
   ],
   "source": [
    "dtc= DecisionTreeClassifier()\n",
    "dtc.fit(x_train,y_train)\n",
    "preddtc= dtc.predict(x_test)\n",
    "print(accuracy_score(y_test,preddtc))\n",
    "print(confusion_matrix(y_test,preddtc))\n",
    "print(classification_report(y_test,preddtc))"
   ]
  },
  {
   "cell_type": "code",
   "execution_count": 49,
   "id": "e48f6c0d",
   "metadata": {},
   "outputs": [
    {
     "name": "stdout",
     "output_type": "stream",
     "text": [
      "0.8735164462529671\n",
      "[[1289  186]\n",
      " [ 187 1287]]\n",
      "              precision    recall  f1-score   support\n",
      "\n",
      "           0       0.87      0.87      0.87      1475\n",
      "           1       0.87      0.87      0.87      1474\n",
      "\n",
      "    accuracy                           0.87      2949\n",
      "   macro avg       0.87      0.87      0.87      2949\n",
      "weighted avg       0.87      0.87      0.87      2949\n",
      "\n"
     ]
    }
   ],
   "source": [
    "rfc= RandomForestClassifier()\n",
    "rfc.fit(x_train,y_train)\n",
    "predrfc= rfc.predict(x_test)\n",
    "print(accuracy_score(y_test,predrfc))\n",
    "print(confusion_matrix(y_test,predrfc))\n",
    "print(classification_report(y_test,predrfc))"
   ]
  },
  {
   "cell_type": "code",
   "execution_count": 50,
   "id": "b9eba4e8",
   "metadata": {},
   "outputs": [
    {
     "data": {
      "text/plain": [
       "{'bootstrap': True,\n",
       " 'ccp_alpha': 0.0,\n",
       " 'class_weight': None,\n",
       " 'criterion': 'gini',\n",
       " 'max_depth': None,\n",
       " 'max_features': 'auto',\n",
       " 'max_leaf_nodes': None,\n",
       " 'max_samples': None,\n",
       " 'min_impurity_decrease': 0.0,\n",
       " 'min_samples_leaf': 1,\n",
       " 'min_samples_split': 2,\n",
       " 'min_weight_fraction_leaf': 0.0,\n",
       " 'n_estimators': 100,\n",
       " 'n_jobs': None,\n",
       " 'oob_score': False,\n",
       " 'random_state': None,\n",
       " 'verbose': 0,\n",
       " 'warm_start': False}"
      ]
     },
     "execution_count": 50,
     "metadata": {},
     "output_type": "execute_result"
    }
   ],
   "source": [
    "rfc.get_params()"
   ]
  },
  {
   "cell_type": "code",
   "execution_count": 51,
   "id": "1ab0a67a",
   "metadata": {},
   "outputs": [
    {
     "name": "stdout",
     "output_type": "stream",
     "text": [
      "[23:50:33] WARNING: C:/Users/Administrator/workspace/xgboost-win64_release_1.5.1/src/learner.cc:1115: Starting in XGBoost 1.3.0, the default evaluation metric used with the objective 'binary:logistic' was changed from 'error' to 'logloss'. Explicitly set eval_metric if you'd like to restore the old behavior.\n"
     ]
    },
    {
     "name": "stderr",
     "output_type": "stream",
     "text": [
      "C:\\Users\\priya\\anaconda3\\lib\\site-packages\\xgboost\\sklearn.py:1224: UserWarning: The use of label encoder in XGBClassifier is deprecated and will be removed in a future release. To remove this warning, do the following: 1) Pass option use_label_encoder=False when constructing XGBClassifier object; and 2) Encode your labels (y) as integers starting with 0, i.e. 0, 1, 2, ..., [num_class - 1].\n",
      "  warnings.warn(label_encoder_deprecation_msg, UserWarning)\n"
     ]
    },
    {
     "name": "stdout",
     "output_type": "stream",
     "text": [
      "0.8741946422516107\n",
      "[[1356  119]\n",
      " [ 252 1222]]\n",
      "              precision    recall  f1-score   support\n",
      "\n",
      "           0       0.84      0.92      0.88      1475\n",
      "           1       0.91      0.83      0.87      1474\n",
      "\n",
      "    accuracy                           0.87      2949\n",
      "   macro avg       0.88      0.87      0.87      2949\n",
      "weighted avg       0.88      0.87      0.87      2949\n",
      "\n"
     ]
    }
   ],
   "source": [
    "xgb= xgb.XGBClassifier()\n",
    "xgb.fit(x_train,y_train)\n",
    "predxgb= xgb.predict(x_test)\n",
    "print(accuracy_score(y_test,predxgb))\n",
    "print(confusion_matrix(y_test,predxgb))\n",
    "print(classification_report(y_test,predxgb))\n"
   ]
  },
  {
   "cell_type": "code",
   "execution_count": 52,
   "id": "2e1b7ae5",
   "metadata": {},
   "outputs": [
    {
     "name": "stdout",
     "output_type": "stream",
     "text": [
      "0.8606307222787386\n",
      "[[1314  161]\n",
      " [ 250 1224]]\n",
      "              precision    recall  f1-score   support\n",
      "\n",
      "           0       0.84      0.89      0.86      1475\n",
      "           1       0.88      0.83      0.86      1474\n",
      "\n",
      "    accuracy                           0.86      2949\n",
      "   macro avg       0.86      0.86      0.86      2949\n",
      "weighted avg       0.86      0.86      0.86      2949\n",
      "\n"
     ]
    }
   ],
   "source": [
    "lgb = lgb.LGBMClassifier()\n",
    "lgb.fit(x_train, y_train)\n",
    "predlgb= lgb.predict(x_test)\n",
    "print(accuracy_score(y_test,predlgb))\n",
    "print(confusion_matrix(y_test,predlgb))\n",
    "print(classification_report(y_test,predlgb))"
   ]
  },
  {
   "cell_type": "markdown",
   "id": "92cc136a",
   "metadata": {},
   "source": [
    "# Cross Validation Score"
   ]
  },
  {
   "cell_type": "code",
   "execution_count": 53,
   "id": "ead30b08",
   "metadata": {},
   "outputs": [
    {
     "name": "stdout",
     "output_type": "stream",
     "text": [
      "0.7545762711864407\n",
      "[[598 139]\n",
      " [223 515]]\n",
      "              precision    recall  f1-score   support\n",
      "\n",
      "           0       0.73      0.81      0.77       737\n",
      "           1       0.79      0.70      0.74       738\n",
      "\n",
      "    accuracy                           0.75      1475\n",
      "   macro avg       0.76      0.75      0.75      1475\n",
      "weighted avg       0.76      0.75      0.75      1475\n",
      "\n",
      "0.5877966101694915\n",
      "[[516 222]\n",
      " [386 351]]\n",
      "              precision    recall  f1-score   support\n",
      "\n",
      "           0       0.57      0.70      0.63       738\n",
      "           1       0.61      0.48      0.54       737\n",
      "\n",
      "    accuracy                           0.59      1475\n",
      "   macro avg       0.59      0.59      0.58      1475\n",
      "weighted avg       0.59      0.59      0.58      1475\n",
      "\n",
      "0.8344640434192673\n",
      "[[495 242]\n",
      " [  2 735]]\n",
      "              precision    recall  f1-score   support\n",
      "\n",
      "           0       1.00      0.67      0.80       737\n",
      "           1       0.75      1.00      0.86       737\n",
      "\n",
      "    accuracy                           0.83      1474\n",
      "   macro avg       0.87      0.83      0.83      1474\n",
      "weighted avg       0.87      0.83      0.83      1474\n",
      "\n",
      "0.8738127544097694\n",
      "[[583 154]\n",
      " [ 32 705]]\n",
      "              precision    recall  f1-score   support\n",
      "\n",
      "           0       0.95      0.79      0.86       737\n",
      "           1       0.82      0.96      0.88       737\n",
      "\n",
      "    accuracy                           0.87      1474\n",
      "   macro avg       0.88      0.87      0.87      1474\n",
      "weighted avg       0.88      0.87      0.87      1474\n",
      "\n",
      "0.8710990502035278\n",
      "[[577 160]\n",
      " [ 30 707]]\n",
      "              precision    recall  f1-score   support\n",
      "\n",
      "           0       0.95      0.78      0.86       737\n",
      "           1       0.82      0.96      0.88       737\n",
      "\n",
      "    accuracy                           0.87      1474\n",
      "   macro avg       0.88      0.87      0.87      1474\n",
      "weighted avg       0.88      0.87      0.87      1474\n",
      "\n",
      "0.8697421981004071\n",
      "[[577 160]\n",
      " [ 32 705]]\n",
      "              precision    recall  f1-score   support\n",
      "\n",
      "           0       0.95      0.78      0.86       737\n",
      "           1       0.82      0.96      0.88       737\n",
      "\n",
      "    accuracy                           0.87      1474\n",
      "   macro avg       0.88      0.87      0.87      1474\n",
      "weighted avg       0.88      0.87      0.87      1474\n",
      "\n",
      "0.9199457259158752\n",
      "[[652  85]\n",
      " [ 33 704]]\n",
      "              precision    recall  f1-score   support\n",
      "\n",
      "           0       0.95      0.88      0.92       737\n",
      "           1       0.89      0.96      0.92       737\n",
      "\n",
      "    accuracy                           0.92      1474\n",
      "   macro avg       0.92      0.92      0.92      1474\n",
      "weighted avg       0.92      0.92      0.92      1474\n",
      "\n",
      "0.9694708276797829\n",
      "[[737   0]\n",
      " [ 45 692]]\n",
      "              precision    recall  f1-score   support\n",
      "\n",
      "           0       0.94      1.00      0.97       737\n",
      "           1       1.00      0.94      0.97       737\n",
      "\n",
      "    accuracy                           0.97      1474\n",
      "   macro avg       0.97      0.97      0.97      1474\n",
      "weighted avg       0.97      0.97      0.97      1474\n",
      "\n",
      "0.9654002713704206\n",
      "[[737   0]\n",
      " [ 51 686]]\n",
      "              precision    recall  f1-score   support\n",
      "\n",
      "           0       0.94      1.00      0.97       737\n",
      "           1       1.00      0.93      0.96       737\n",
      "\n",
      "    accuracy                           0.97      1474\n",
      "   macro avg       0.97      0.97      0.97      1474\n",
      "weighted avg       0.97      0.97      0.97      1474\n",
      "\n",
      "0.9755766621438263\n",
      "[[737   0]\n",
      " [ 36 701]]\n",
      "              precision    recall  f1-score   support\n",
      "\n",
      "           0       0.95      1.00      0.98       737\n",
      "           1       1.00      0.95      0.97       737\n",
      "\n",
      "    accuracy                           0.98      1474\n",
      "   macro avg       0.98      0.98      0.98      1474\n",
      "weighted avg       0.98      0.98      0.98      1474\n",
      "\n"
     ]
    }
   ],
   "source": [
    "from sklearn.model_selection import StratifiedKFold\n",
    "strat= StratifiedKFold(n_splits=10)\n",
    "strat.get_n_splits(x_new,y_new)\n",
    "\n",
    "for train_index, test_index in strat.split(x_new, y_new):\n",
    "    x_train_new, x_test_new= x_new.iloc[train_index], x_new.iloc[test_index]\n",
    "    y_train_new, y_test_new= y_new.iloc[train_index], y_new.iloc[test_index]\n",
    "    rfc.fit(x_train_new, y_train_new)\n",
    "    strat_predrfc= rfc.predict(x_test_new)\n",
    "    print(accuracy_score(y_test_new,strat_predrfc))\n",
    "    print(confusion_matrix(y_test_new,strat_predrfc))\n",
    "    print(classification_report(y_test_new,strat_predrfc))"
   ]
  },
  {
   "cell_type": "code",
   "execution_count": 54,
   "id": "276bc0fc",
   "metadata": {},
   "outputs": [
    {
     "name": "stdout",
     "output_type": "stream",
     "text": [
      "[23:50:41] WARNING: C:/Users/Administrator/workspace/xgboost-win64_release_1.5.1/src/learner.cc:1115: Starting in XGBoost 1.3.0, the default evaluation metric used with the objective 'binary:logistic' was changed from 'error' to 'logloss'. Explicitly set eval_metric if you'd like to restore the old behavior.\n"
     ]
    },
    {
     "name": "stderr",
     "output_type": "stream",
     "text": [
      "C:\\Users\\priya\\anaconda3\\lib\\site-packages\\xgboost\\sklearn.py:1224: UserWarning: The use of label encoder in XGBClassifier is deprecated and will be removed in a future release. To remove this warning, do the following: 1) Pass option use_label_encoder=False when constructing XGBClassifier object; and 2) Encode your labels (y) as integers starting with 0, i.e. 0, 1, 2, ..., [num_class - 1].\n",
      "  warnings.warn(label_encoder_deprecation_msg, UserWarning)\n"
     ]
    },
    {
     "name": "stdout",
     "output_type": "stream",
     "text": [
      "0.5545762711864407\n",
      "[[697  40]\n",
      " [617 121]]\n",
      "              precision    recall  f1-score   support\n",
      "\n",
      "           0       0.53      0.95      0.68       737\n",
      "           1       0.75      0.16      0.27       738\n",
      "\n",
      "    accuracy                           0.55      1475\n",
      "   macro avg       0.64      0.55      0.47      1475\n",
      "weighted avg       0.64      0.55      0.47      1475\n",
      "\n",
      "[23:50:41] WARNING: C:/Users/Administrator/workspace/xgboost-win64_release_1.5.1/src/learner.cc:1115: Starting in XGBoost 1.3.0, the default evaluation metric used with the objective 'binary:logistic' was changed from 'error' to 'logloss'. Explicitly set eval_metric if you'd like to restore the old behavior.\n"
     ]
    },
    {
     "name": "stderr",
     "output_type": "stream",
     "text": [
      "C:\\Users\\priya\\anaconda3\\lib\\site-packages\\xgboost\\sklearn.py:1224: UserWarning: The use of label encoder in XGBClassifier is deprecated and will be removed in a future release. To remove this warning, do the following: 1) Pass option use_label_encoder=False when constructing XGBClassifier object; and 2) Encode your labels (y) as integers starting with 0, i.e. 0, 1, 2, ..., [num_class - 1].\n",
      "  warnings.warn(label_encoder_deprecation_msg, UserWarning)\n"
     ]
    },
    {
     "name": "stdout",
     "output_type": "stream",
     "text": [
      "0.43796610169491523\n",
      "[[588 150]\n",
      " [679  58]]\n",
      "              precision    recall  f1-score   support\n",
      "\n",
      "           0       0.46      0.80      0.59       738\n",
      "           1       0.28      0.08      0.12       737\n",
      "\n",
      "    accuracy                           0.44      1475\n",
      "   macro avg       0.37      0.44      0.35      1475\n",
      "weighted avg       0.37      0.44      0.35      1475\n",
      "\n",
      "[23:50:42] WARNING: C:/Users/Administrator/workspace/xgboost-win64_release_1.5.1/src/learner.cc:1115: Starting in XGBoost 1.3.0, the default evaluation metric used with the objective 'binary:logistic' was changed from 'error' to 'logloss'. Explicitly set eval_metric if you'd like to restore the old behavior.\n"
     ]
    },
    {
     "name": "stderr",
     "output_type": "stream",
     "text": [
      "C:\\Users\\priya\\anaconda3\\lib\\site-packages\\xgboost\\sklearn.py:1224: UserWarning: The use of label encoder in XGBClassifier is deprecated and will be removed in a future release. To remove this warning, do the following: 1) Pass option use_label_encoder=False when constructing XGBClassifier object; and 2) Encode your labels (y) as integers starting with 0, i.e. 0, 1, 2, ..., [num_class - 1].\n",
      "  warnings.warn(label_encoder_deprecation_msg, UserWarning)\n"
     ]
    },
    {
     "name": "stdout",
     "output_type": "stream",
     "text": [
      "0.8724559023066486\n",
      "[[549 188]\n",
      " [  0 737]]\n",
      "              precision    recall  f1-score   support\n",
      "\n",
      "           0       1.00      0.74      0.85       737\n",
      "           1       0.80      1.00      0.89       737\n",
      "\n",
      "    accuracy                           0.87      1474\n",
      "   macro avg       0.90      0.87      0.87      1474\n",
      "weighted avg       0.90      0.87      0.87      1474\n",
      "\n",
      "[23:50:42] WARNING: C:/Users/Administrator/workspace/xgboost-win64_release_1.5.1/src/learner.cc:1115: Starting in XGBoost 1.3.0, the default evaluation metric used with the objective 'binary:logistic' was changed from 'error' to 'logloss'. Explicitly set eval_metric if you'd like to restore the old behavior.\n"
     ]
    },
    {
     "name": "stderr",
     "output_type": "stream",
     "text": [
      "C:\\Users\\priya\\anaconda3\\lib\\site-packages\\xgboost\\sklearn.py:1224: UserWarning: The use of label encoder in XGBClassifier is deprecated and will be removed in a future release. To remove this warning, do the following: 1) Pass option use_label_encoder=False when constructing XGBClassifier object; and 2) Encode your labels (y) as integers starting with 0, i.e. 0, 1, 2, ..., [num_class - 1].\n",
      "  warnings.warn(label_encoder_deprecation_msg, UserWarning)\n"
     ]
    },
    {
     "name": "stdout",
     "output_type": "stream",
     "text": [
      "0.9260515603799185\n",
      "[[642  95]\n",
      " [ 14 723]]\n",
      "              precision    recall  f1-score   support\n",
      "\n",
      "           0       0.98      0.87      0.92       737\n",
      "           1       0.88      0.98      0.93       737\n",
      "\n",
      "    accuracy                           0.93      1474\n",
      "   macro avg       0.93      0.93      0.93      1474\n",
      "weighted avg       0.93      0.93      0.93      1474\n",
      "\n",
      "[23:50:42] WARNING: C:/Users/Administrator/workspace/xgboost-win64_release_1.5.1/src/learner.cc:1115: Starting in XGBoost 1.3.0, the default evaluation metric used with the objective 'binary:logistic' was changed from 'error' to 'logloss'. Explicitly set eval_metric if you'd like to restore the old behavior.\n"
     ]
    },
    {
     "name": "stderr",
     "output_type": "stream",
     "text": [
      "C:\\Users\\priya\\anaconda3\\lib\\site-packages\\xgboost\\sklearn.py:1224: UserWarning: The use of label encoder in XGBClassifier is deprecated and will be removed in a future release. To remove this warning, do the following: 1) Pass option use_label_encoder=False when constructing XGBClassifier object; and 2) Encode your labels (y) as integers starting with 0, i.e. 0, 1, 2, ..., [num_class - 1].\n",
      "  warnings.warn(label_encoder_deprecation_msg, UserWarning)\n"
     ]
    },
    {
     "name": "stdout",
     "output_type": "stream",
     "text": [
      "0.9077340569877883\n",
      "[[612 125]\n",
      " [ 11 726]]\n",
      "              precision    recall  f1-score   support\n",
      "\n",
      "           0       0.98      0.83      0.90       737\n",
      "           1       0.85      0.99      0.91       737\n",
      "\n",
      "    accuracy                           0.91      1474\n",
      "   macro avg       0.92      0.91      0.91      1474\n",
      "weighted avg       0.92      0.91      0.91      1474\n",
      "\n",
      "[23:50:43] WARNING: C:/Users/Administrator/workspace/xgboost-win64_release_1.5.1/src/learner.cc:1115: Starting in XGBoost 1.3.0, the default evaluation metric used with the objective 'binary:logistic' was changed from 'error' to 'logloss'. Explicitly set eval_metric if you'd like to restore the old behavior.\n"
     ]
    },
    {
     "name": "stderr",
     "output_type": "stream",
     "text": [
      "C:\\Users\\priya\\anaconda3\\lib\\site-packages\\xgboost\\sklearn.py:1224: UserWarning: The use of label encoder in XGBClassifier is deprecated and will be removed in a future release. To remove this warning, do the following: 1) Pass option use_label_encoder=False when constructing XGBClassifier object; and 2) Encode your labels (y) as integers starting with 0, i.e. 0, 1, 2, ..., [num_class - 1].\n",
      "  warnings.warn(label_encoder_deprecation_msg, UserWarning)\n"
     ]
    },
    {
     "name": "stdout",
     "output_type": "stream",
     "text": [
      "0.9063772048846676\n",
      "[[610 127]\n",
      " [ 11 726]]\n",
      "              precision    recall  f1-score   support\n",
      "\n",
      "           0       0.98      0.83      0.90       737\n",
      "           1       0.85      0.99      0.91       737\n",
      "\n",
      "    accuracy                           0.91      1474\n",
      "   macro avg       0.92      0.91      0.91      1474\n",
      "weighted avg       0.92      0.91      0.91      1474\n",
      "\n",
      "[23:50:43] WARNING: C:/Users/Administrator/workspace/xgboost-win64_release_1.5.1/src/learner.cc:1115: Starting in XGBoost 1.3.0, the default evaluation metric used with the objective 'binary:logistic' was changed from 'error' to 'logloss'. Explicitly set eval_metric if you'd like to restore the old behavior.\n"
     ]
    },
    {
     "name": "stderr",
     "output_type": "stream",
     "text": [
      "C:\\Users\\priya\\anaconda3\\lib\\site-packages\\xgboost\\sklearn.py:1224: UserWarning: The use of label encoder in XGBClassifier is deprecated and will be removed in a future release. To remove this warning, do the following: 1) Pass option use_label_encoder=False when constructing XGBClassifier object; and 2) Encode your labels (y) as integers starting with 0, i.e. 0, 1, 2, ..., [num_class - 1].\n",
      "  warnings.warn(label_encoder_deprecation_msg, UserWarning)\n"
     ]
    },
    {
     "name": "stdout",
     "output_type": "stream",
     "text": [
      "0.9484396200814111\n",
      "[[680  57]\n",
      " [ 19 718]]\n",
      "              precision    recall  f1-score   support\n",
      "\n",
      "           0       0.97      0.92      0.95       737\n",
      "           1       0.93      0.97      0.95       737\n",
      "\n",
      "    accuracy                           0.95      1474\n",
      "   macro avg       0.95      0.95      0.95      1474\n",
      "weighted avg       0.95      0.95      0.95      1474\n",
      "\n",
      "[23:50:44] WARNING: C:/Users/Administrator/workspace/xgboost-win64_release_1.5.1/src/learner.cc:1115: Starting in XGBoost 1.3.0, the default evaluation metric used with the objective 'binary:logistic' was changed from 'error' to 'logloss'. Explicitly set eval_metric if you'd like to restore the old behavior.\n"
     ]
    },
    {
     "name": "stderr",
     "output_type": "stream",
     "text": [
      "C:\\Users\\priya\\anaconda3\\lib\\site-packages\\xgboost\\sklearn.py:1224: UserWarning: The use of label encoder in XGBClassifier is deprecated and will be removed in a future release. To remove this warning, do the following: 1) Pass option use_label_encoder=False when constructing XGBClassifier object; and 2) Encode your labels (y) as integers starting with 0, i.e. 0, 1, 2, ..., [num_class - 1].\n",
      "  warnings.warn(label_encoder_deprecation_msg, UserWarning)\n"
     ]
    },
    {
     "name": "stdout",
     "output_type": "stream",
     "text": [
      "0.9823609226594301\n",
      "[[737   0]\n",
      " [ 26 711]]\n",
      "              precision    recall  f1-score   support\n",
      "\n",
      "           0       0.97      1.00      0.98       737\n",
      "           1       1.00      0.96      0.98       737\n",
      "\n",
      "    accuracy                           0.98      1474\n",
      "   macro avg       0.98      0.98      0.98      1474\n",
      "weighted avg       0.98      0.98      0.98      1474\n",
      "\n",
      "[23:50:44] WARNING: C:/Users/Administrator/workspace/xgboost-win64_release_1.5.1/src/learner.cc:1115: Starting in XGBoost 1.3.0, the default evaluation metric used with the objective 'binary:logistic' was changed from 'error' to 'logloss'. Explicitly set eval_metric if you'd like to restore the old behavior.\n"
     ]
    },
    {
     "name": "stderr",
     "output_type": "stream",
     "text": [
      "C:\\Users\\priya\\anaconda3\\lib\\site-packages\\xgboost\\sklearn.py:1224: UserWarning: The use of label encoder in XGBClassifier is deprecated and will be removed in a future release. To remove this warning, do the following: 1) Pass option use_label_encoder=False when constructing XGBClassifier object; and 2) Encode your labels (y) as integers starting with 0, i.e. 0, 1, 2, ..., [num_class - 1].\n",
      "  warnings.warn(label_encoder_deprecation_msg, UserWarning)\n"
     ]
    },
    {
     "name": "stdout",
     "output_type": "stream",
     "text": [
      "0.9864314789687924\n",
      "[[737   0]\n",
      " [ 20 717]]\n",
      "              precision    recall  f1-score   support\n",
      "\n",
      "           0       0.97      1.00      0.99       737\n",
      "           1       1.00      0.97      0.99       737\n",
      "\n",
      "    accuracy                           0.99      1474\n",
      "   macro avg       0.99      0.99      0.99      1474\n",
      "weighted avg       0.99      0.99      0.99      1474\n",
      "\n",
      "[23:50:45] WARNING: C:/Users/Administrator/workspace/xgboost-win64_release_1.5.1/src/learner.cc:1115: Starting in XGBoost 1.3.0, the default evaluation metric used with the objective 'binary:logistic' was changed from 'error' to 'logloss'. Explicitly set eval_metric if you'd like to restore the old behavior.\n"
     ]
    },
    {
     "name": "stderr",
     "output_type": "stream",
     "text": [
      "C:\\Users\\priya\\anaconda3\\lib\\site-packages\\xgboost\\sklearn.py:1224: UserWarning: The use of label encoder in XGBClassifier is deprecated and will be removed in a future release. To remove this warning, do the following: 1) Pass option use_label_encoder=False when constructing XGBClassifier object; and 2) Encode your labels (y) as integers starting with 0, i.e. 0, 1, 2, ..., [num_class - 1].\n",
      "  warnings.warn(label_encoder_deprecation_msg, UserWarning)\n"
     ]
    },
    {
     "name": "stdout",
     "output_type": "stream",
     "text": [
      "0.989145183175034\n",
      "[[737   0]\n",
      " [ 16 721]]\n",
      "              precision    recall  f1-score   support\n",
      "\n",
      "           0       0.98      1.00      0.99       737\n",
      "           1       1.00      0.98      0.99       737\n",
      "\n",
      "    accuracy                           0.99      1474\n",
      "   macro avg       0.99      0.99      0.99      1474\n",
      "weighted avg       0.99      0.99      0.99      1474\n",
      "\n"
     ]
    }
   ],
   "source": [
    "from sklearn.model_selection import StratifiedKFold\n",
    "strat= StratifiedKFold(n_splits=10)\n",
    "strat.get_n_splits(x_new,y_new)\n",
    "\n",
    "for train_index, test_index in strat.split(x_new, y_new):\n",
    "    x_train_new, x_test_new= x_new.iloc[train_index], x_new.iloc[test_index]\n",
    "    y_train_new, y_test_new= y_new.iloc[train_index], y_new.iloc[test_index]\n",
    "    xgb.fit(x_train_new, y_train_new)\n",
    "    strat_predxgb= xgb.predict(x_test_new)\n",
    "    print(accuracy_score(y_test_new,strat_predxgb))\n",
    "    print(confusion_matrix(y_test_new,strat_predxgb))\n",
    "    print(classification_report(y_test_new,strat_predxgb))"
   ]
  },
  {
   "cell_type": "code",
   "execution_count": 55,
   "id": "20659b00",
   "metadata": {},
   "outputs": [
    {
     "name": "stdout",
     "output_type": "stream",
     "text": [
      "0.5647457627118644\n",
      "[[664  73]\n",
      " [569 169]]\n",
      "              precision    recall  f1-score   support\n",
      "\n",
      "           0       0.54      0.90      0.67       737\n",
      "           1       0.70      0.23      0.34       738\n",
      "\n",
      "    accuracy                           0.56      1475\n",
      "   macro avg       0.62      0.56      0.51      1475\n",
      "weighted avg       0.62      0.56      0.51      1475\n",
      "\n",
      "0.39864406779661016\n",
      "[[503 235]\n",
      " [652  85]]\n",
      "              precision    recall  f1-score   support\n",
      "\n",
      "           0       0.44      0.68      0.53       738\n",
      "           1       0.27      0.12      0.16       737\n",
      "\n",
      "    accuracy                           0.40      1475\n",
      "   macro avg       0.35      0.40      0.35      1475\n",
      "weighted avg       0.35      0.40      0.35      1475\n",
      "\n",
      "0.8364993215739485\n",
      "[[498 239]\n",
      " [  2 735]]\n",
      "              precision    recall  f1-score   support\n",
      "\n",
      "           0       1.00      0.68      0.81       737\n",
      "           1       0.75      1.00      0.86       737\n",
      "\n",
      "    accuracy                           0.84      1474\n",
      "   macro avg       0.88      0.84      0.83      1474\n",
      "weighted avg       0.88      0.84      0.83      1474\n",
      "\n",
      "0.9050203527815468\n",
      "[[620 117]\n",
      " [ 23 714]]\n",
      "              precision    recall  f1-score   support\n",
      "\n",
      "           0       0.96      0.84      0.90       737\n",
      "           1       0.86      0.97      0.91       737\n",
      "\n",
      "    accuracy                           0.91      1474\n",
      "   macro avg       0.91      0.91      0.90      1474\n",
      "weighted avg       0.91      0.91      0.90      1474\n",
      "\n",
      "0.89280868385346\n",
      "[[612 125]\n",
      " [ 33 704]]\n",
      "              precision    recall  f1-score   support\n",
      "\n",
      "           0       0.95      0.83      0.89       737\n",
      "           1       0.85      0.96      0.90       737\n",
      "\n",
      "    accuracy                           0.89      1474\n",
      "   macro avg       0.90      0.89      0.89      1474\n",
      "weighted avg       0.90      0.89      0.89      1474\n",
      "\n",
      "0.8758480325644504\n",
      "[[590 147]\n",
      " [ 36 701]]\n",
      "              precision    recall  f1-score   support\n",
      "\n",
      "           0       0.94      0.80      0.87       737\n",
      "           1       0.83      0.95      0.88       737\n",
      "\n",
      "    accuracy                           0.88      1474\n",
      "   macro avg       0.88      0.88      0.88      1474\n",
      "weighted avg       0.88      0.88      0.88      1474\n",
      "\n",
      "0.926729986431479\n",
      "[[668  69]\n",
      " [ 39 698]]\n",
      "              precision    recall  f1-score   support\n",
      "\n",
      "           0       0.94      0.91      0.93       737\n",
      "           1       0.91      0.95      0.93       737\n",
      "\n",
      "    accuracy                           0.93      1474\n",
      "   macro avg       0.93      0.93      0.93      1474\n",
      "weighted avg       0.93      0.93      0.93      1474\n",
      "\n",
      "0.9708276797829036\n",
      "[[731   6]\n",
      " [ 37 700]]\n",
      "              precision    recall  f1-score   support\n",
      "\n",
      "           0       0.95      0.99      0.97       737\n",
      "           1       0.99      0.95      0.97       737\n",
      "\n",
      "    accuracy                           0.97      1474\n",
      "   macro avg       0.97      0.97      0.97      1474\n",
      "weighted avg       0.97      0.97      0.97      1474\n",
      "\n",
      "0.9721845318860244\n",
      "[[737   0]\n",
      " [ 41 696]]\n",
      "              precision    recall  f1-score   support\n",
      "\n",
      "           0       0.95      1.00      0.97       737\n",
      "           1       1.00      0.94      0.97       737\n",
      "\n",
      "    accuracy                           0.97      1474\n",
      "   macro avg       0.97      0.97      0.97      1474\n",
      "weighted avg       0.97      0.97      0.97      1474\n",
      "\n",
      "0.9776119402985075\n",
      "[[737   0]\n",
      " [ 33 704]]\n",
      "              precision    recall  f1-score   support\n",
      "\n",
      "           0       0.96      1.00      0.98       737\n",
      "           1       1.00      0.96      0.98       737\n",
      "\n",
      "    accuracy                           0.98      1474\n",
      "   macro avg       0.98      0.98      0.98      1474\n",
      "weighted avg       0.98      0.98      0.98      1474\n",
      "\n"
     ]
    }
   ],
   "source": [
    "from sklearn.model_selection import StratifiedKFold\n",
    "strat= StratifiedKFold(n_splits=10)\n",
    "strat.get_n_splits(x_new,y_new)\n",
    "\n",
    "for train_index, test_index in strat.split(x_new, y_new):\n",
    "    x_train_new, x_test_new= x_new.iloc[train_index], x_new.iloc[test_index]\n",
    "    y_train_new, y_test_new= y_new.iloc[train_index], y_new.iloc[test_index]\n",
    "    lgb.fit(x_train_new, y_train_new)\n",
    "    strat_predlgb= lgb.predict(x_test_new)\n",
    "    print(accuracy_score(y_test_new,strat_predlgb))\n",
    "    print(confusion_matrix(y_test_new,strat_predlgb))\n",
    "    print(classification_report(y_test_new,strat_predlgb))"
   ]
  },
  {
   "cell_type": "markdown",
   "id": "c81c8e03",
   "metadata": {},
   "source": [
    "# Hyper Parameter Tuning"
   ]
  },
  {
   "cell_type": "code",
   "execution_count": 56,
   "id": "6cb052f7",
   "metadata": {},
   "outputs": [
    {
     "data": {
      "text/plain": [
       "{'bootstrap': True,\n",
       " 'ccp_alpha': 0.0,\n",
       " 'class_weight': None,\n",
       " 'criterion': 'gini',\n",
       " 'max_depth': 40,\n",
       " 'max_features': 3,\n",
       " 'max_leaf_nodes': 2000,\n",
       " 'max_samples': None,\n",
       " 'min_impurity_decrease': 0.0,\n",
       " 'min_samples_leaf': 1,\n",
       " 'min_samples_split': 2,\n",
       " 'min_weight_fraction_leaf': 0.0,\n",
       " 'n_estimators': 100,\n",
       " 'n_jobs': 10,\n",
       " 'oob_score': False,\n",
       " 'random_state': 500,\n",
       " 'verbose': 0,\n",
       " 'warm_start': False}"
      ]
     },
     "execution_count": 56,
     "metadata": {},
     "output_type": "execute_result"
    }
   ],
   "source": [
    "from sklearn.model_selection import GridSearchCV\n",
    "parameter={'bootstrap': [True],\n",
    " 'ccp_alpha': [0.0],\n",
    " 'class_weight': [None],\n",
    " 'criterion': ['gini'],\n",
    " 'max_depth': [40,45,50,55,60],\n",
    " 'max_features': [3],\n",
    " 'max_leaf_nodes': [2000],\n",
    " 'max_samples': [None],\n",
    " 'min_impurity_decrease': [0.0],\n",
    " 'min_samples_leaf': [1],\n",
    " 'min_samples_split': [2],\n",
    " 'min_weight_fraction_leaf': [0.0],\n",
    " 'n_estimators': [100],\n",
    " 'n_jobs': [10],\n",
    " 'oob_score': [False],\n",
    " 'random_state': [200,300,500,600],\n",
    " 'verbose': [0],\n",
    " 'warm_start': [False]}\n",
    "gcv=GridSearchCV(rfc,parameter,cv=10)\n",
    "gcv.fit(x_train,y_train)\n",
    "gcv.best_params_ "
   ]
  },
  {
   "cell_type": "code",
   "execution_count": 57,
   "id": "51331f70",
   "metadata": {},
   "outputs": [
    {
     "name": "stdout",
     "output_type": "stream",
     "text": [
      "0.8691081722617836\n",
      "[[1263  212]\n",
      " [ 174 1300]]\n",
      "              precision    recall  f1-score   support\n",
      "\n",
      "           0       0.88      0.86      0.87      1475\n",
      "           1       0.86      0.88      0.87      1474\n",
      "\n",
      "    accuracy                           0.87      2949\n",
      "   macro avg       0.87      0.87      0.87      2949\n",
      "weighted avg       0.87      0.87      0.87      2949\n",
      "\n"
     ]
    }
   ],
   "source": [
    "predgcv=gcv.best_estimator_.predict(x_test)\n",
    "print(accuracy_score(y_test,predgcv))\n",
    "print(confusion_matrix(y_test,predgcv))\n",
    "print(classification_report(y_test,predgcv))"
   ]
  },
  {
   "cell_type": "code",
   "execution_count": 58,
   "id": "9579f2d5",
   "metadata": {},
   "outputs": [
    {
     "data": {
      "text/plain": [
       "(array([1476.,    0.,    0.,    0.,    0.,    0.,    0.,    0.,    0.,\n",
       "        1473.]),\n",
       " array([0. , 0.1, 0.2, 0.3, 0.4, 0.5, 0.6, 0.7, 0.8, 0.9, 1. ]),\n",
       " <BarContainer object of 10 artists>)"
      ]
     },
     "execution_count": 58,
     "metadata": {},
     "output_type": "execute_result"
    },
    {
     "data": {
      "image/png": "[encoded data removed]",
      "text/plain": [
       "<Figure size 432x288 with 1 Axes>"
      ]
     },
     "metadata": {
      "needs_background": "light"
     },
     "output_type": "display_data"
    }
   ],
   "source": [
    "plt.hist(predrfc)"
   ]
  },
  {
   "cell_type": "markdown",
   "id": "3e402306",
   "metadata": {},
   "source": [
    "# Test Dataset"
   ]
  },
  {
   "cell_type": "code",
   "execution_count": 59,
   "id": "b8a700bf",
   "metadata": {},
   "outputs": [
    {
     "data": {
      "text/html": [
       "<div>\n",
       "<style scoped>\n",
       "    .dataframe tbody tr th:only-of-type {\n",
       "        vertical-align: middle;\n",
       "    }\n",
       "\n",
       "    .dataframe tbody tr th {\n",
       "        vertical-align: top;\n",
       "    }\n",
       "\n",
       "    .dataframe thead th {\n",
       "        text-align: right;\n",
       "    }\n",
       "</style>\n",
       "<table border=\"1\" class=\"dataframe\">\n",
       "  <thead>\n",
       "    <tr style=\"text-align: right;\">\n",
       "      <th></th>\n",
       "      <th>ID</th>\n",
       "      <th>Age</th>\n",
       "      <th>Gender</th>\n",
       "      <th>Income</th>\n",
       "      <th>Balance</th>\n",
       "      <th>Vintage</th>\n",
       "      <th>Transaction_Status</th>\n",
       "      <th>Product_Holdings</th>\n",
       "      <th>Credit_Card</th>\n",
       "      <th>Credit_Category</th>\n",
       "    </tr>\n",
       "  </thead>\n",
       "  <tbody>\n",
       "    <tr>\n",
       "      <th>0</th>\n",
       "      <td>55480787</td>\n",
       "      <td>50</td>\n",
       "      <td>Female</td>\n",
       "      <td>More than 15L</td>\n",
       "      <td>1008636.39</td>\n",
       "      <td>2</td>\n",
       "      <td>1</td>\n",
       "      <td>2</td>\n",
       "      <td>1</td>\n",
       "      <td>Average</td>\n",
       "    </tr>\n",
       "    <tr>\n",
       "      <th>1</th>\n",
       "      <td>9aededf2</td>\n",
       "      <td>36</td>\n",
       "      <td>Male</td>\n",
       "      <td>5L - 10L</td>\n",
       "      <td>341460.72</td>\n",
       "      <td>2</td>\n",
       "      <td>0</td>\n",
       "      <td>2</td>\n",
       "      <td>1</td>\n",
       "      <td>Average</td>\n",
       "    </tr>\n",
       "    <tr>\n",
       "      <th>2</th>\n",
       "      <td>a5034a09</td>\n",
       "      <td>25</td>\n",
       "      <td>Female</td>\n",
       "      <td>10L - 15L</td>\n",
       "      <td>439460.10</td>\n",
       "      <td>0</td>\n",
       "      <td>0</td>\n",
       "      <td>2</td>\n",
       "      <td>1</td>\n",
       "      <td>Good</td>\n",
       "    </tr>\n",
       "    <tr>\n",
       "      <th>3</th>\n",
       "      <td>b3256702</td>\n",
       "      <td>41</td>\n",
       "      <td>Male</td>\n",
       "      <td>Less than 5L</td>\n",
       "      <td>28581.93</td>\n",
       "      <td>0</td>\n",
       "      <td>1</td>\n",
       "      <td>2</td>\n",
       "      <td>1</td>\n",
       "      <td>Poor</td>\n",
       "    </tr>\n",
       "    <tr>\n",
       "      <th>4</th>\n",
       "      <td>dc28adb5</td>\n",
       "      <td>48</td>\n",
       "      <td>Male</td>\n",
       "      <td>More than 15L</td>\n",
       "      <td>1104540.03</td>\n",
       "      <td>2</td>\n",
       "      <td>1</td>\n",
       "      <td>3+</td>\n",
       "      <td>0</td>\n",
       "      <td>Good</td>\n",
       "    </tr>\n",
       "  </tbody>\n",
       "</table>\n",
       "</div>"
      ],
      "text/plain": [
       "         ID  Age  Gender         Income     Balance  Vintage  \\\n",
       "0  55480787   50  Female  More than 15L  1008636.39        2   \n",
       "1  9aededf2   36    Male       5L - 10L   341460.72        2   \n",
       "2  a5034a09   25  Female      10L - 15L   439460.10        0   \n",
       "3  b3256702   41    Male   Less than 5L    28581.93        0   \n",
       "4  dc28adb5   48    Male  More than 15L  1104540.03        2   \n",
       "\n",
       "   Transaction_Status Product_Holdings  Credit_Card Credit_Category  \n",
       "0                   1                2            1         Average  \n",
       "1                   0                2            1         Average  \n",
       "2                   0                2            1            Good  \n",
       "3                   1                2            1            Poor  \n",
       "4                   1               3+            0            Good  "
      ]
     },
     "execution_count": 59,
     "metadata": {},
     "output_type": "execute_result"
    }
   ],
   "source": [
    "test.head()"
   ]
  },
  {
   "cell_type": "code",
   "execution_count": 60,
   "id": "e41cfa79",
   "metadata": {},
   "outputs": [
    {
     "data": {
      "text/plain": [
       "(2851, 10)"
      ]
     },
     "execution_count": 60,
     "metadata": {},
     "output_type": "execute_result"
    }
   ],
   "source": [
    "test.shape"
   ]
  },
  {
   "cell_type": "code",
   "execution_count": 61,
   "id": "8dc6dcc0",
   "metadata": {},
   "outputs": [],
   "source": [
    "df_test= test.drop('ID', axis=1)"
   ]
  },
  {
   "cell_type": "code",
   "execution_count": 62,
   "id": "a2304b0b",
   "metadata": {},
   "outputs": [
    {
     "data": {
      "text/plain": [
       "Age                   0\n",
       "Gender                0\n",
       "Income                0\n",
       "Balance               0\n",
       "Vintage               0\n",
       "Transaction_Status    0\n",
       "Product_Holdings      0\n",
       "Credit_Card           0\n",
       "Credit_Category       0\n",
       "dtype: int64"
      ]
     },
     "execution_count": 62,
     "metadata": {},
     "output_type": "execute_result"
    }
   ],
   "source": [
    "df_test.isna().sum()"
   ]
  },
  {
   "cell_type": "code",
   "execution_count": 63,
   "id": "72ed6208",
   "metadata": {},
   "outputs": [
    {
     "data": {
      "text/plain": [
       "Age                     int64\n",
       "Gender                 object\n",
       "Income                 object\n",
       "Balance               float64\n",
       "Vintage                 int64\n",
       "Transaction_Status      int64\n",
       "Product_Holdings       object\n",
       "Credit_Card             int64\n",
       "Credit_Category        object\n",
       "dtype: object"
      ]
     },
     "execution_count": 63,
     "metadata": {},
     "output_type": "execute_result"
    }
   ],
   "source": [
    "df_test.dtypes"
   ]
  },
  {
   "cell_type": "code",
   "execution_count": 64,
   "id": "ea9a45ca",
   "metadata": {},
   "outputs": [
    {
     "data": {
      "text/plain": [
       "Male      1545\n",
       "Female    1306\n",
       "Name: Gender, dtype: int64"
      ]
     },
     "execution_count": 64,
     "metadata": {},
     "output_type": "execute_result"
    }
   ],
   "source": [
    "df_test['Gender'].value_counts()"
   ]
  },
  {
   "cell_type": "code",
   "execution_count": 65,
   "id": "ff916c7d",
   "metadata": {},
   "outputs": [
    {
     "data": {
      "text/plain": [
       "2     1359\n",
       "1     1342\n",
       "3+     150\n",
       "Name: Product_Holdings, dtype: int64"
      ]
     },
     "execution_count": 65,
     "metadata": {},
     "output_type": "execute_result"
    }
   ],
   "source": [
    "df_test['Product_Holdings'].value_counts()"
   ]
  },
  {
   "cell_type": "code",
   "execution_count": 66,
   "id": "fdd8d66b",
   "metadata": {},
   "outputs": [
    {
     "data": {
      "text/plain": [
       "10L - 15L        844\n",
       "5L - 10L         794\n",
       "Less than 5L     648\n",
       "More than 15L    565\n",
       "Name: Income, dtype: int64"
      ]
     },
     "execution_count": 66,
     "metadata": {},
     "output_type": "execute_result"
    }
   ],
   "source": [
    "df_test['Income'].value_counts()"
   ]
  },
  {
   "cell_type": "code",
   "execution_count": 67,
   "id": "733915e4",
   "metadata": {},
   "outputs": [],
   "source": [
    "df_test= pd.get_dummies(columns=['Product_Holdings','Income','Gender'], data=df_test , drop_first=True)"
   ]
  },
  {
   "cell_type": "code",
   "execution_count": 68,
   "id": "3d9e891e",
   "metadata": {},
   "outputs": [
    {
     "data": {
      "text/plain": [
       "Poor       1270\n",
       "Average     866\n",
       "Good        715\n",
       "Name: Credit_Category, dtype: int64"
      ]
     },
     "execution_count": 68,
     "metadata": {},
     "output_type": "execute_result"
    }
   ],
   "source": [
    "df_test['Credit_Category'].value_counts()"
   ]
  },
  {
   "cell_type": "code",
   "execution_count": 69,
   "id": "ebca6925",
   "metadata": {},
   "outputs": [],
   "source": [
    "df_test['Credit_Category']= np.where(df_test['Credit_Category']=='Poor',0,df_test['Credit_Category'])\n",
    "df_test['Credit_Category']= np.where(df_test['Credit_Category']=='Average',1,df_test['Credit_Category'])\n",
    "df_test['Credit_Category']= np.where(df_test['Credit_Category']=='Good',2,df_test['Credit_Category'])\n",
    "df_test['Credit_Category']=df_test['Credit_Category'].astype('int')"
   ]
  },
  {
   "cell_type": "code",
   "execution_count": 70,
   "id": "ff489297",
   "metadata": {},
   "outputs": [
    {
     "data": {
      "text/plain": [
       "0    1270\n",
       "1     866\n",
       "2     715\n",
       "Name: Credit_Category, dtype: int64"
      ]
     },
     "execution_count": 70,
     "metadata": {},
     "output_type": "execute_result"
    }
   ],
   "source": [
    "df_test['Credit_Category'].value_counts()"
   ]
  },
  {
   "cell_type": "code",
   "execution_count": 71,
   "id": "e95f1eba",
   "metadata": {},
   "outputs": [
    {
     "data": {
      "text/plain": [
       "Age                       int64\n",
       "Balance                 float64\n",
       "Vintage                   int64\n",
       "Transaction_Status        int64\n",
       "Credit_Card               int64\n",
       "Credit_Category           int32\n",
       "Product_Holdings_2        uint8\n",
       "Product_Holdings_3+       uint8\n",
       "Income_5L - 10L           uint8\n",
       "Income_Less than 5L       uint8\n",
       "Income_More than 15L      uint8\n",
       "Gender_Male               uint8\n",
       "dtype: object"
      ]
     },
     "execution_count": 71,
     "metadata": {},
     "output_type": "execute_result"
    }
   ],
   "source": [
    "df_test.dtypes"
   ]
  },
  {
   "cell_type": "code",
   "execution_count": 72,
   "id": "ec4852ec",
   "metadata": {},
   "outputs": [
    {
     "data": {
      "text/html": [
       "<div>\n",
       "<style scoped>\n",
       "    .dataframe tbody tr th:only-of-type {\n",
       "        vertical-align: middle;\n",
       "    }\n",
       "\n",
       "    .dataframe tbody tr th {\n",
       "        vertical-align: top;\n",
       "    }\n",
       "\n",
       "    .dataframe thead th {\n",
       "        text-align: right;\n",
       "    }\n",
       "</style>\n",
       "<table border=\"1\" class=\"dataframe\">\n",
       "  <thead>\n",
       "    <tr style=\"text-align: right;\">\n",
       "      <th></th>\n",
       "      <th>Age</th>\n",
       "      <th>Balance</th>\n",
       "      <th>Vintage</th>\n",
       "      <th>Transaction_Status</th>\n",
       "      <th>Credit_Card</th>\n",
       "      <th>Credit_Category</th>\n",
       "      <th>Product_Holdings_2</th>\n",
       "      <th>Product_Holdings_3+</th>\n",
       "      <th>Income_5L - 10L</th>\n",
       "      <th>Income_Less than 5L</th>\n",
       "      <th>Income_More than 15L</th>\n",
       "      <th>Gender_Male</th>\n",
       "    </tr>\n",
       "  </thead>\n",
       "  <tbody>\n",
       "    <tr>\n",
       "      <th>0</th>\n",
       "      <td>50</td>\n",
       "      <td>1008636.39</td>\n",
       "      <td>2</td>\n",
       "      <td>1</td>\n",
       "      <td>1</td>\n",
       "      <td>1</td>\n",
       "      <td>1</td>\n",
       "      <td>0</td>\n",
       "      <td>0</td>\n",
       "      <td>0</td>\n",
       "      <td>1</td>\n",
       "      <td>0</td>\n",
       "    </tr>\n",
       "    <tr>\n",
       "      <th>1</th>\n",
       "      <td>36</td>\n",
       "      <td>341460.72</td>\n",
       "      <td>2</td>\n",
       "      <td>0</td>\n",
       "      <td>1</td>\n",
       "      <td>1</td>\n",
       "      <td>1</td>\n",
       "      <td>0</td>\n",
       "      <td>1</td>\n",
       "      <td>0</td>\n",
       "      <td>0</td>\n",
       "      <td>1</td>\n",
       "    </tr>\n",
       "    <tr>\n",
       "      <th>2</th>\n",
       "      <td>25</td>\n",
       "      <td>439460.10</td>\n",
       "      <td>0</td>\n",
       "      <td>0</td>\n",
       "      <td>1</td>\n",
       "      <td>2</td>\n",
       "      <td>1</td>\n",
       "      <td>0</td>\n",
       "      <td>0</td>\n",
       "      <td>0</td>\n",
       "      <td>0</td>\n",
       "      <td>0</td>\n",
       "    </tr>\n",
       "    <tr>\n",
       "      <th>3</th>\n",
       "      <td>41</td>\n",
       "      <td>28581.93</td>\n",
       "      <td>0</td>\n",
       "      <td>1</td>\n",
       "      <td>1</td>\n",
       "      <td>0</td>\n",
       "      <td>1</td>\n",
       "      <td>0</td>\n",
       "      <td>0</td>\n",
       "      <td>1</td>\n",
       "      <td>0</td>\n",
       "      <td>1</td>\n",
       "    </tr>\n",
       "    <tr>\n",
       "      <th>4</th>\n",
       "      <td>48</td>\n",
       "      <td>1104540.03</td>\n",
       "      <td>2</td>\n",
       "      <td>1</td>\n",
       "      <td>0</td>\n",
       "      <td>2</td>\n",
       "      <td>0</td>\n",
       "      <td>1</td>\n",
       "      <td>0</td>\n",
       "      <td>0</td>\n",
       "      <td>1</td>\n",
       "      <td>1</td>\n",
       "    </tr>\n",
       "  </tbody>\n",
       "</table>\n",
       "</div>"
      ],
      "text/plain": [
       "   Age     Balance  Vintage  Transaction_Status  Credit_Card  Credit_Category  \\\n",
       "0   50  1008636.39        2                   1            1                1   \n",
       "1   36   341460.72        2                   0            1                1   \n",
       "2   25   439460.10        0                   0            1                2   \n",
       "3   41    28581.93        0                   1            1                0   \n",
       "4   48  1104540.03        2                   1            0                2   \n",
       "\n",
       "   Product_Holdings_2  Product_Holdings_3+  Income_5L - 10L  \\\n",
       "0                   1                    0                0   \n",
       "1                   1                    0                1   \n",
       "2                   1                    0                0   \n",
       "3                   1                    0                0   \n",
       "4                   0                    1                0   \n",
       "\n",
       "   Income_Less than 5L  Income_More than 15L  Gender_Male  \n",
       "0                    0                     1            0  \n",
       "1                    0                     0            1  \n",
       "2                    0                     0            0  \n",
       "3                    1                     0            1  \n",
       "4                    0                     1            1  "
      ]
     },
     "execution_count": 72,
     "metadata": {},
     "output_type": "execute_result"
    }
   ],
   "source": [
    "df_test.head()"
   ]
  },
  {
   "cell_type": "code",
   "execution_count": 73,
   "id": "600476ae",
   "metadata": {},
   "outputs": [
    {
     "data": {
      "text/plain": [
       "Age                     0.556185\n",
       "Balance                 0.519035\n",
       "Vintage                 0.038753\n",
       "Transaction_Status     -0.027376\n",
       "Credit_Card            -0.718114\n",
       "Credit_Category         0.369339\n",
       "Product_Holdings_2      0.093451\n",
       "Product_Holdings_3+     4.009878\n",
       "Income_5L - 10L         0.988791\n",
       "Income_Less than 5L     1.302160\n",
       "Income_More than 15L    1.515120\n",
       "Gender_Male            -0.168341\n",
       "dtype: float64"
      ]
     },
     "execution_count": 73,
     "metadata": {},
     "output_type": "execute_result"
    }
   ],
   "source": [
    "df_test.skew()"
   ]
  },
  {
   "cell_type": "code",
   "execution_count": 74,
   "id": "3c702d4d",
   "metadata": {},
   "outputs": [
    {
     "data": {
      "text/plain": [
       "Age                     0.000797\n",
       "Balance                -0.297727\n",
       "Vintage                 0.038753\n",
       "Transaction_Status     -0.027376\n",
       "Credit_Card            -0.718114\n",
       "Credit_Category         0.369339\n",
       "Product_Holdings_2      0.093451\n",
       "Product_Holdings_3+     4.009878\n",
       "Income_5L - 10L         0.988791\n",
       "Income_Less than 5L     1.302160\n",
       "Income_More than 15L    1.515120\n",
       "Gender_Male            -0.168341\n",
       "dtype: float64"
      ]
     },
     "execution_count": 74,
     "metadata": {},
     "output_type": "execute_result"
    }
   ],
   "source": [
    "columns=['Age','Balance']\n",
    "df_test[columns]= powertrans.transform(df_test[columns])\n",
    "df_test.skew()"
   ]
  },
  {
   "cell_type": "code",
   "execution_count": 75,
   "id": "e91f94af",
   "metadata": {},
   "outputs": [],
   "source": [
    "col=['Age','Balance','Vintage','Credit_Category']\n",
    "df_test[col]= stdscaler.transform(df_test[col])"
   ]
  },
  {
   "cell_type": "code",
   "execution_count": 76,
   "id": "83b950b4",
   "metadata": {},
   "outputs": [],
   "source": [
    "pred_test=rfc.predict(df_test)"
   ]
  },
  {
   "cell_type": "code",
   "execution_count": 77,
   "id": "85079957",
   "metadata": {},
   "outputs": [
    {
     "data": {
      "text/plain": [
       "(array([2327.,    0.,    0.,    0.,    0.,    0.,    0.,    0.,    0.,\n",
       "         524.]),\n",
       " array([0. , 0.1, 0.2, 0.3, 0.4, 0.5, 0.6, 0.7, 0.8, 0.9, 1. ]),\n",
       " <BarContainer object of 10 artists>)"
      ]
     },
     "execution_count": 77,
     "metadata": {},
     "output_type": "execute_result"
    },
    {
     "data": {
      "image/png": "[encoded data removed]",
      "text/plain": [
       "<Figure size 432x288 with 1 Axes>"
      ]
     },
     "metadata": {
      "needs_background": "light"
     },
     "output_type": "display_data"
    }
   ],
   "source": [
    "plt.hist(pred_test)"
   ]
  },
  {
   "cell_type": "code",
   "execution_count": 78,
   "id": "a2ed7bd1",
   "metadata": {},
   "outputs": [],
   "source": [
    "final_df= pd.DataFrame(pred_test, columns=['Predicted values'])"
   ]
  },
  {
   "cell_type": "code",
   "execution_count": 79,
   "id": "c0de911d",
   "metadata": {},
   "outputs": [],
   "source": [
    "final_df['ID']=test['ID']"
   ]
  },
  {
   "cell_type": "code",
   "execution_count": 80,
   "id": "c4ae4b1f",
   "metadata": {},
   "outputs": [],
   "source": [
    "final_df['Is_Churn']= final_df['Predicted values']"
   ]
  },
  {
   "cell_type": "code",
   "execution_count": 81,
   "id": "dd92fef5",
   "metadata": {},
   "outputs": [],
   "source": [
    "final_df= final_df.drop('Predicted values',axis=1)"
   ]
  },
  {
   "cell_type": "code",
   "execution_count": 82,
   "id": "6b2ad99d",
   "metadata": {},
   "outputs": [
    {
     "data": {
      "text/html": [
       "<div>\n",
       "<style scoped>\n",
       "    .dataframe tbody tr th:only-of-type {\n",
       "        vertical-align: middle;\n",
       "    }\n",
       "\n",
       "    .dataframe tbody tr th {\n",
       "        vertical-align: top;\n",
       "    }\n",
       "\n",
       "    .dataframe thead th {\n",
       "        text-align: right;\n",
       "    }\n",
       "</style>\n",
       "<table border=\"1\" class=\"dataframe\">\n",
       "  <thead>\n",
       "    <tr style=\"text-align: right;\">\n",
       "      <th></th>\n",
       "      <th>ID</th>\n",
       "      <th>Is_Churn</th>\n",
       "    </tr>\n",
       "  </thead>\n",
       "  <tbody>\n",
       "    <tr>\n",
       "      <th>0</th>\n",
       "      <td>55480787</td>\n",
       "      <td>0</td>\n",
       "    </tr>\n",
       "    <tr>\n",
       "      <th>1</th>\n",
       "      <td>9aededf2</td>\n",
       "      <td>0</td>\n",
       "    </tr>\n",
       "    <tr>\n",
       "      <th>2</th>\n",
       "      <td>a5034a09</td>\n",
       "      <td>0</td>\n",
       "    </tr>\n",
       "    <tr>\n",
       "      <th>3</th>\n",
       "      <td>b3256702</td>\n",
       "      <td>0</td>\n",
       "    </tr>\n",
       "    <tr>\n",
       "      <th>4</th>\n",
       "      <td>dc28adb5</td>\n",
       "      <td>0</td>\n",
       "    </tr>\n",
       "  </tbody>\n",
       "</table>\n",
       "</div>"
      ],
      "text/plain": [
       "         ID  Is_Churn\n",
       "0  55480787         0\n",
       "1  9aededf2         0\n",
       "2  a5034a09         0\n",
       "3  b3256702         0\n",
       "4  dc28adb5         0"
      ]
     },
     "execution_count": 82,
     "metadata": {},
     "output_type": "execute_result"
    }
   ],
   "source": [
    "final_df.head()"
   ]
  },
  {
   "cell_type": "code",
   "execution_count": 83,
   "id": "da5b5045",
   "metadata": {},
   "outputs": [],
   "source": [
    "final_df.to_csv('Churn Customer.csv', index=False)"
   ]
  }
 ],
 "metadata": {
  "kernelspec": {
   "display_name": "Python 3 (ipykernel)",
   "language": "python",
   "name": "python3"
  },
  "language_info": {
   "codemirror_mode": {
    "name": "ipython",
    "version": 3
   },
   "file_extension": ".py",
   "mimetype": "text/x-python",
   "name": "python",
   "nbconvert_exporter": "python",
   "pygments_lexer": "ipython3",
   "version": "3.9.7"
  }
 },
 "nbformat": 4,
 "nbformat_minor": 5
}
